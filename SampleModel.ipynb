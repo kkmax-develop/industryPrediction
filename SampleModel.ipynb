{
 "cells": [
  {
   "cell_type": "code",
   "execution_count": 13,
   "metadata": {},
   "outputs": [],
   "source": [
    "# データ分析・操作用ライブラリ\n",
    "import numpy as np\n",
    "import pandas as pd\n",
    "\n",
    "# NLP用ライブラリ\n",
    "import MeCab,re\n",
    "from sklearn.feature_extraction.text import TfidfVectorizer\n",
    "\n",
    "# スコア評価用ライブラリ\n",
    "from sklearn.model_selection import train_test_split\n",
    "from sklearn.model_selection import cross_val_score\n",
    "from sklearn.metrics import precision_recall_fscore_support\n",
    "\n",
    "# エラー表示の抑制\n",
    "import warnings"
   ]
  },
  {
   "cell_type": "code",
   "execution_count": 2,
   "metadata": {},
   "outputs": [],
   "source": [
    "# 表示関連\n",
    "# DataFrameの列数設定\n",
    "pd.set_option('display.max_columns', 500)\n",
    "pd.set_option(\"display.max_rows\", 500)\n",
    "warnings.filterwarnings('ignore')"
   ]
  },
  {
   "cell_type": "code",
   "execution_count": 3,
   "metadata": {},
   "outputs": [
    {
     "data": {
      "text/html": [
       "<div>\n",
       "<style scoped>\n",
       "    .dataframe tbody tr th:only-of-type {\n",
       "        vertical-align: middle;\n",
       "    }\n",
       "\n",
       "    .dataframe tbody tr th {\n",
       "        vertical-align: top;\n",
       "    }\n",
       "\n",
       "    .dataframe thead th {\n",
       "        text-align: right;\n",
       "    }\n",
       "</style>\n",
       "<table border=\"1\" class=\"dataframe\">\n",
       "  <thead>\n",
       "    <tr style=\"text-align: right;\">\n",
       "      <th></th>\n",
       "      <th>text</th>\n",
       "      <th>target</th>\n",
       "    </tr>\n",
       "  </thead>\n",
       "  <tbody>\n",
       "    <tr>\n",
       "      <th>0</th>\n",
       "      <td>ドール・フード・カンパニー  ドール・フード・カンパニー（Dole Food Compan...</td>\n",
       "      <td>1</td>\n",
       "    </tr>\n",
       "    <tr>\n",
       "      <th>1</th>\n",
       "      <td>南ヶ丘牧   南ヶ丘牧（みなみがおかぼくじょう）は、栃那須原に拠を置く酪農経営企。現在4つ...</td>\n",
       "      <td>1</td>\n",
       "    </tr>\n",
       "    <tr>\n",
       "      <th>2</th>\n",
       "      <td>岩瀬牧  岩瀬牧（いわせぼくじょう）は、福島岩瀬郡鏡石にある牧である。  鏡石シンボルソン...</td>\n",
       "      <td>1</td>\n",
       "    </tr>\n",
       "    <tr>\n",
       "      <th>3</th>\n",
       "      <td>クラギ  クラギ（くらぎ、\"KURAGI Co.Ltd.\" ）は、重を心に「農」を展開する...</td>\n",
       "      <td>1</td>\n",
       "    </tr>\n",
       "    <tr>\n",
       "      <th>4</th>\n",
       "      <td>ハッピーネモファーム  ハッピーネモファーム（\"\"）は、北海浦河郡浦河にある競走馬（サラブ...</td>\n",
       "      <td>1</td>\n",
       "    </tr>\n",
       "  </tbody>\n",
       "</table>\n",
       "</div>"
      ],
      "text/plain": [
       "                                                text  target\n",
       "0   ドール・フード・カンパニー  ドール・フード・カンパニー（Dole Food Compan...       1\n",
       "1   南ヶ丘牧   南ヶ丘牧（みなみがおかぼくじょう）は、栃那須原に拠を置く酪農経営企。現在4つ...       1\n",
       "2   岩瀬牧  岩瀬牧（いわせぼくじょう）は、福島岩瀬郡鏡石にある牧である。  鏡石シンボルソン...       1\n",
       "3   クラギ  クラギ（くらぎ、\"KURAGI Co.Ltd.\" ）は、重を心に「農」を展開する...       1\n",
       "4   ハッピーネモファーム  ハッピーネモファーム（\"\"）は、北海浦河郡浦河にある競走馬（サラブ...       1"
      ]
     },
     "execution_count": 3,
     "metadata": {},
     "output_type": "execute_result"
    }
   ],
   "source": [
    "# テキストデータの読み込み\n",
    "wikiData = pd.read_csv(\"csv/train_cleaned.csv\", encoding=\"utf-8\")\n",
    "\n",
    "# 読み込みデータの表示\n",
    "wikiData.head()"
   ]
  },
  {
   "cell_type": "code",
   "execution_count": 4,
   "metadata": {},
   "outputs": [],
   "source": [
    "# Numpy配列へ変換\n",
    "X = wikiData.text.values\n",
    "y = wikiData.target.values"
   ]
  },
  {
   "cell_type": "code",
   "execution_count": 5,
   "metadata": {},
   "outputs": [],
   "source": [
    "# トレーニングデータ、テストデータの分割\n",
    "X_train, X_test, y_train, y_test = train_test_split(X , y, test_size=0.2, random_state=42, stratify=y)"
   ]
  },
  {
   "cell_type": "code",
   "execution_count": 48,
   "metadata": {},
   "outputs": [],
   "source": [
    "# 形態素解析用関数\n",
    "def tokenize(text):\n",
    "    tokens = []\n",
    "    tagger = MeCab.Tagger( \"-Ochasen\" )\n",
    "    node = tagger.parseToNode(text)\n",
    "    while node:\n",
    "        if node.feature.split(\",\")[0] in ['形容詞', '動詞','名詞', '副詞'] :\n",
    "                replace_node = re.sub( re.compile( \"[!-/:-@[-`{-~]\" ), \"\", node.surface )\n",
    "                if replace_node != \"\" and replace_node != \" \":\n",
    "                    tokens.append(replace_node)\n",
    "        node = node.next\n",
    "    return tokens"
   ]
  },
  {
   "cell_type": "code",
   "execution_count": 51,
   "metadata": {},
   "outputs": [],
   "source": [
    "# 形態素解析を実行\n",
    "vectorizer = TfidfVectorizer(tokenizer=tokenize)\n",
    "vectorizer.fit(X)\n",
    "train_matrix = vectorizer.transform(X_train)\n",
    "test_matrix = vectorizer.transform(X_test)"
   ]
  },
  {
   "cell_type": "code",
   "execution_count": 52,
   "metadata": {},
   "outputs": [
    {
     "name": "stdout",
     "output_type": "stream",
     "text": [
      "Training score：0.462914485166\n",
      "Cross-Validation score：0.367699049508\n",
      "Test score：0.37260034904\n"
     ]
    }
   ],
   "source": [
    "# ナイーブベイズ\n",
    "from sklearn.naive_bayes import MultinomialNB\n",
    "\n",
    "clf = MultinomialNB()\n",
    "clf.fit(train_matrix, y_train)\n",
    "cv_scores = cross_val_score(clf, train_matrix, y_train, cv=5)\n",
    "\n",
    "print(\"Training score：\" + str(clf.score(train_matrix, y_train)))\n",
    "print(\"Cross-Validation score：\" + str(np.mean(cv_scores)))\n",
    "print(\"Test score：\" + str(clf.score(test_matrix, y_test)))"
   ]
  },
  {
   "cell_type": "code",
   "execution_count": 36,
   "metadata": {},
   "outputs": [
    {
     "name": "stdout",
     "output_type": "stream",
     "text": [
      "precision score：0.0\n",
      "precision score：0.0\n",
      "precision score：0.0\n",
      "precision score：0.82183908046\n",
      "precision score：0.0\n",
      "precision score：0.0\n",
      "precision score：0.666666666667\n",
      "precision score：0.0\n",
      "precision score：0.0\n",
      "precision score：0.0\n",
      "precision score：0.0\n",
      "precision score：0.0\n",
      "precision score：0.0\n",
      "precision score：0.0\n",
      "precision score：1.0\n",
      "precision score：0.578947368421\n",
      "precision score：0.0\n",
      "precision score：0.0\n",
      "precision score：0.0\n",
      "precision score：1.0\n",
      "precision score：0.237545565006\n",
      "precision score：0.0\n",
      "precision score：0.0\n",
      "precision score：0.0\n",
      "precision score：0.0\n",
      "precision score：0.0\n",
      "precision score：0.979591836735\n",
      "precision score：0.0\n",
      "precision score：0.0\n",
      "precision score：0.0\n",
      "precision score：0.767441860465\n",
      "precision score：0.0\n",
      "precision score：0.852941176471\n"
     ]
    }
   ],
   "source": [
    "# テストデータのクラス別適合率を確認\n",
    "pred = clf.predict(test_matrix)\n",
    "p_r_f = precision_recall_fscore_support(y_test, pred)\n",
    "\n",
    "for precision in p_r_f[0]:\n",
    "    print(\"precision score：\" + str(precision))"
   ]
  },
  {
   "cell_type": "code",
   "execution_count": 38,
   "metadata": {},
   "outputs": [
    {
     "name": "stdout",
     "output_type": "stream",
     "text": [
      "recall score：0.0\n",
      "recall score：0.0\n",
      "recall score：0.0\n",
      "recall score：0.593360995851\n",
      "recall score：0.0\n",
      "recall score：0.0\n",
      "recall score：0.0235294117647\n",
      "recall score：0.0\n",
      "recall score：0.0\n",
      "recall score：0.0\n",
      "recall score：0.0\n",
      "recall score：0.0\n",
      "recall score：0.0\n",
      "recall score：0.0\n",
      "recall score：0.047619047619\n",
      "recall score：0.0964912280702\n",
      "recall score：0.0\n",
      "recall score：0.0\n",
      "recall score：0.0\n",
      "recall score：0.021897810219\n",
      "recall score：0.987373737374\n",
      "recall score：0.0\n",
      "recall score：0.0\n",
      "recall score：0.0\n",
      "recall score：0.0\n",
      "recall score：0.0\n",
      "recall score：0.457142857143\n",
      "recall score：0.0\n",
      "recall score：0.0\n",
      "recall score：0.0\n",
      "recall score：0.779527559055\n",
      "recall score：0.0\n",
      "recall score：0.444444444444\n"
     ]
    }
   ],
   "source": [
    "# テストデータのクラス別再現率を確認\n",
    "for recall in p_r_f[1]:\n",
    "    print(\"recall score：\" + str(recall))"
   ]
  },
  {
   "cell_type": "code",
   "execution_count": 39,
   "metadata": {},
   "outputs": [
    {
     "name": "stdout",
     "output_type": "stream",
     "text": [
      "F1 score：0.0\n",
      "F1 score：0.0\n",
      "F1 score：0.0\n",
      "F1 score：0.689156626506\n",
      "F1 score：0.0\n",
      "F1 score：0.0\n",
      "F1 score：0.0454545454545\n",
      "F1 score：0.0\n",
      "F1 score：0.0\n",
      "F1 score：0.0\n",
      "F1 score：0.0\n",
      "F1 score：0.0\n",
      "F1 score：0.0\n",
      "F1 score：0.0\n",
      "F1 score：0.0909090909091\n",
      "F1 score：0.165413533835\n",
      "F1 score：0.0\n",
      "F1 score：0.0\n",
      "F1 score：0.0\n",
      "F1 score：0.0428571428571\n",
      "F1 score：0.382957884427\n",
      "F1 score：0.0\n",
      "F1 score：0.0\n",
      "F1 score：0.0\n",
      "F1 score：0.0\n",
      "F1 score：0.0\n",
      "F1 score：0.623376623377\n",
      "F1 score：0.0\n",
      "F1 score：0.0\n",
      "F1 score：0.0\n",
      "F1 score：0.7734375\n",
      "F1 score：0.0\n",
      "F1 score：0.584382871537\n"
     ]
    }
   ],
   "source": [
    "# テストデータのクラス別F1値を確認\n",
    "for ｆ1 in p_r_f[2]:\n",
    "    print(\"F1 score：\" + str(f1))"
   ]
  },
  {
   "cell_type": "code",
   "execution_count": 9,
   "metadata": {},
   "outputs": [
    {
     "name": "stdout",
     "output_type": "stream",
     "text": [
      "Training score：1.0\n",
      "Cross-Validation score：0.66221177878\n",
      "Test score：0.657068062827\n"
     ]
    }
   ],
   "source": [
    "# ランダムフォレスト\n",
    "from sklearn.ensemble import RandomForestClassifier\n",
    "\n",
    "clf2 = RandomForestClassifier(n_estimators=50,random_state=42)\n",
    "clf2.fit(train_matrix, y_train)\n",
    "cv_scores = cross_val_score(clf2, train_matrix, y_train, cv=5)\n",
    "\n",
    "print(\"Training score：\" + str(clf2.score(train_matrix, y_train)))\n",
    "print(\"Cross-Validation score：\" + str(np.mean(cv_scores)))\n",
    "print(\"Test score：\" + str(clf2.score(test_matrix, y_test)))"
   ]
  },
  {
   "cell_type": "code",
   "execution_count": null,
   "metadata": {},
   "outputs": [],
   "source": [
    "# Light GBM\n",
    "import lightgbm as lgb\n",
    "\n",
    "clf3 = lgb.LGBMClassifier(objective='multiclass', num_class=33)\n",
    "clf3.fit(train_matrix, y_train)\n",
    "cv_scores = cross_val_score(clf3, train_matrix, y_train, cv=5)\n",
    "\n",
    "print(\"Training score：\" + str(clf3.score(train_matrix, y_train)))\n",
    "print(\"Cross-Validation score：\" + str(np.mean(cv_scores)))\n",
    "print(\"Test score：\" + str(clf3.score(test_matrix, y_test)))"
   ]
  },
  {
   "cell_type": "code",
   "execution_count": null,
   "metadata": {},
   "outputs": [],
   "source": [
    "# テストデータのクラス別適合率を確認\n",
    "pred = clf3.predict(test_matrix)\n",
    "p_r_f = precision_recall_fscore_support(y_test, pred)\n",
    "\n",
    "for precision in p_r_f[0]:\n",
    "    print(\"precision score：\" + str(precision))"
   ]
  },
  {
   "cell_type": "code",
   "execution_count": null,
   "metadata": {},
   "outputs": [],
   "source": [
    "# テストデータのクラス別再現率を確認\n",
    "for recall in p_r_f[1]:\n",
    "    print(\"recall score：\" + str(recall))"
   ]
  },
  {
   "cell_type": "code",
   "execution_count": null,
   "metadata": {},
   "outputs": [],
   "source": [
    "# テストデータのクラス別F1値を確認\n",
    "for ｆ1 in p_r_f[2]:\n",
    "    print(\"F1 score：\" + str(f1))"
   ]
  },
  {
   "cell_type": "code",
   "execution_count": null,
   "metadata": {},
   "outputs": [],
   "source": [
    "scores = []\n",
    "for i in range(1,34):\n",
    "    tmp_y = np.copy(y_train)\n",
    "    tmp_y[tmp_y != i] = 0\n",
    "    \n",
    "    cv_scores_class = cross_val_score(clf2, train_matrix, tmp_y, cv=5, scoring='roc_auc')\n",
    "    \n",
    "    scores.append(cv_scores_class)\n",
    "    print(\"CV score for class：\" + str(np.mean(cv_scores_class)))\n",
    "    \n",
    "print(\"Total CV score：\" + str(np.mean(scores)))"
   ]
  },
  {
   "cell_type": "code",
   "execution_count": 11,
   "metadata": {},
   "outputs": [
    {
     "name": "stdout",
     "output_type": "stream",
     "text": [
      "Training score：0.206806282723\n",
      "Cross-Validation score：0.188141785068\n",
      "Test score：0.200261780105\n",
      "Training score：0.206806282723\n",
      "Cross-Validation score：0.188141785068\n",
      "Test score：0.200261780105\n"
     ]
    }
   ],
   "source": [
    "# SVM\n",
    "from sklearn.svm import SVC\n",
    "\n",
    "## パラメーター設定\n",
    "C = 1.\n",
    "kernel = 'rbf'\n",
    "gamma  = 0.01\n",
    "\n",
    "## One-versus-the-rest\n",
    "clf4 = SVC(C=C, kernel=kernel, gamma=gamma, decision_function_shape='ovr')\n",
    "clf4.fit(train_matrix, y_train)\n",
    "cv_scores = cross_val_score(clf4, train_matrix, y_train, cv=5)\n",
    "\n",
    "print(\"Training score：\" + str(clf4.score(train_matrix, y_train)))\n",
    "print(\"Cross-Validation score：\" + str(np.mean(cv_scores)))\n",
    "print(\"Test score：\" + str(clf4.score(test_matrix, y_test)))\n",
    "\n",
    "\n",
    "## One-versus-the-one(multi-class default)\n",
    "clf5 = SVC(C=C, kernel=kernel, gamma=gamma, decision_function_shape='ovo')\n",
    "clf5.fit(train_matrix, y_train)\n",
    "cv_scores = cross_val_score(clf5, train_matrix, y_train, cv=5)\n",
    "\n",
    "print(\"Training score：\" + str(clf5.score(train_matrix, y_train)))\n",
    "print(\"Cross-Validation score：\" + str(np.mean(cv_scores)))\n",
    "print(\"Test score：\" + str(clf5.score(test_matrix, y_test)))"
   ]
  }
 ],
 "metadata": {
  "kernelspec": {
   "display_name": "Python 3",
   "language": "python",
   "name": "python3"
  }
 },
 "nbformat": 4,
 "nbformat_minor": 2
}
