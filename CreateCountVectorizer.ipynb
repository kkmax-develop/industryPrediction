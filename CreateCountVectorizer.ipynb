{
 "cells": [
  {
   "cell_type": "code",
   "execution_count": 1,
   "metadata": {},
   "outputs": [],
   "source": [
    "# データ分析・操作用ライブラリ\n",
    "import numpy as np\n",
    "import pandas as pd\n",
    "\n",
    "# NLP用ライブラリ\n",
    "import MeCab,re\n",
    "from sklearn.feature_extraction.text import CountVectorizer\n",
    "\n",
    "# スコア評価用ライブラリ\n",
    "from sklearn.model_selection import train_test_split\n",
    "from sklearn.model_selection import cross_val_score\n",
    "from sklearn.metrics import precision_recall_fscore_support\n",
    "\n",
    "# エラー表示の抑制\n",
    "import warnings"
   ]
  },
  {
   "cell_type": "code",
   "execution_count": 2,
   "metadata": {},
   "outputs": [],
   "source": [
    "# 表示関連\n",
    "# DataFrameの列数設定\n",
    "pd.set_option('display.max_columns', 500)\n",
    "pd.set_option(\"display.max_rows\", 500)\n",
    "warnings.filterwarnings('ignore')"
   ]
  },
  {
   "cell_type": "code",
   "execution_count": 3,
   "metadata": {},
   "outputs": [
    {
     "data": {
      "text/html": [
       "<div>\n",
       "<style scoped>\n",
       "    .dataframe tbody tr th:only-of-type {\n",
       "        vertical-align: middle;\n",
       "    }\n",
       "\n",
       "    .dataframe tbody tr th {\n",
       "        vertical-align: top;\n",
       "    }\n",
       "\n",
       "    .dataframe thead th {\n",
       "        text-align: right;\n",
       "    }\n",
       "</style>\n",
       "<table border=\"1\" class=\"dataframe\">\n",
       "  <thead>\n",
       "    <tr style=\"text-align: right;\">\n",
       "      <th></th>\n",
       "      <th>text</th>\n",
       "      <th>target</th>\n",
       "    </tr>\n",
       "  </thead>\n",
       "  <tbody>\n",
       "    <tr>\n",
       "      <th>0</th>\n",
       "      <td>ドール・フード・カンパニー  ドール・フード・カンパニー  Dole  Food  Comp...</td>\n",
       "      <td>1</td>\n",
       "    </tr>\n",
       "    <tr>\n",
       "      <th>1</th>\n",
       "      <td>南ヶ丘牧場  株式会社  南ヶ丘牧場  みなみ  じょう  栃木県  那須高原  本拠  酪...</td>\n",
       "      <td>1</td>\n",
       "    </tr>\n",
       "    <tr>\n",
       "      <th>2</th>\n",
       "      <td>岩瀬牧場  岩瀬牧場  ぼくじょう  日本  福島県  岩瀬  郡  鏡石町  牧場  鏡石...</td>\n",
       "      <td>1</td>\n",
       "    </tr>\n",
       "    <tr>\n",
       "      <th>3</th>\n",
       "      <td>くら  ぎ  GI  Co  Ltd  三重県  中心  農業  店舗  展開  会社  本...</td>\n",
       "      <td>1</td>\n",
       "    </tr>\n",
       "    <tr>\n",
       "      <th>4</th>\n",
       "      <td>ハッピーネモファーム  株式会社  ハッピーネモファーム  北海道  浦河  郡  浦河町 ...</td>\n",
       "      <td>1</td>\n",
       "    </tr>\n",
       "  </tbody>\n",
       "</table>\n",
       "</div>"
      ],
      "text/plain": [
       "                                                text  target\n",
       "0  ドール・フード・カンパニー  ドール・フード・カンパニー  Dole  Food  Comp...       1\n",
       "1  南ヶ丘牧場  株式会社  南ヶ丘牧場  みなみ  じょう  栃木県  那須高原  本拠  酪...       1\n",
       "2  岩瀬牧場  岩瀬牧場  ぼくじょう  日本  福島県  岩瀬  郡  鏡石町  牧場  鏡石...       1\n",
       "3  くら  ぎ  GI  Co  Ltd  三重県  中心  農業  店舗  展開  会社  本...       1\n",
       "4  ハッピーネモファーム  株式会社  ハッピーネモファーム  北海道  浦河  郡  浦河町 ...       1"
      ]
     },
     "execution_count": 3,
     "metadata": {},
     "output_type": "execute_result"
    }
   ],
   "source": [
    "# テキストデータの読み込み\n",
    "wikiData = pd.read_csv(\"csv/train_cleaned.csv\", encoding=\"utf-8\")\n",
    "\n",
    "# 読み込みデータの表示\n",
    "wikiData.head()"
   ]
  },
  {
   "cell_type": "code",
   "execution_count": 4,
   "metadata": {},
   "outputs": [],
   "source": [
    "# Numpy配列へ変換\n",
    "X = wikiData.text.values\n",
    "y = wikiData.target.values"
   ]
  },
  {
   "cell_type": "code",
   "execution_count": 5,
   "metadata": {},
   "outputs": [],
   "source": [
    "# 形態素解析用関数\n",
    "def tokenize(text):\n",
    "    tokens = []\n",
    "    tagger = MeCab.Tagger()\n",
    "    node = tagger.parseToNode(text)\n",
    "    while node:\n",
    "        if node.feature.split(\",\")[0] in ['名詞'] :\n",
    "                replace_node = re.sub( re.compile( \"[!-/:-@[-`{-~]\" ), \"\", node.surface )\n",
    "                if replace_node != \"\" and replace_node != \" \":\n",
    "                    tokens.append(replace_node)\n",
    "        node = node.next\n",
    "    return tokens"
   ]
  },
  {
   "cell_type": "code",
   "execution_count": 6,
   "metadata": {},
   "outputs": [
    {
     "data": {
      "text/plain": [
       "CountVectorizer(analyzer='word', binary=False, decode_error='strict',\n",
       "                dtype=<class 'numpy.int64'>, encoding='utf-8', input='content',\n",
       "                lowercase=True, max_df=1.0, max_features=None, min_df=1,\n",
       "                ngram_range=(1, 1), preprocessor=None, stop_words=None,\n",
       "                strip_accents=None, token_pattern='(?u)\\\\b\\\\w\\\\w+\\\\b',\n",
       "                tokenizer=<function tokenize at 0x000002A9176A8620>,\n",
       "                vocabulary=None)"
      ]
     },
     "execution_count": 6,
     "metadata": {},
     "output_type": "execute_result"
    }
   ],
   "source": [
    "# 形態素解析を実行\n",
    "vectorizer = CountVectorizer(tokenizer=tokenize)\n",
    "vectorizer.fit(X)"
   ]
  },
  {
   "cell_type": "code",
   "execution_count": 7,
   "metadata": {},
   "outputs": [
    {
     "data": {
      "text/plain": [
       "['CountVectorizer.pkl']"
      ]
     },
     "execution_count": 7,
     "metadata": {},
     "output_type": "execute_result"
    }
   ],
   "source": [
    "# 学習結果の保存\n",
    "from sklearn.externals import joblib\n",
    "joblib.dump(vectorizer, 'model/CountVectorizer.pkl')"
   ]
  }
 ],
 "metadata": {
  "kernelspec": {
   "display_name": "Python 3",
   "language": "python",
   "name": "python3"
  },
  "language_info": {
   "codemirror_mode": {
    "name": "ipython",
    "version": 3
   },
   "file_extension": ".py",
   "mimetype": "text/x-python",
   "name": "python",
   "nbconvert_exporter": "python",
   "pygments_lexer": "ipython3",
   "version": "3.6.6"
  }
 },
 "nbformat": 4,
 "nbformat_minor": 2
}
