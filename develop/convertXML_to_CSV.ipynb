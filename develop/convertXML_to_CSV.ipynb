{
 "cells": [
  {
   "cell_type": "code",
   "execution_count": 1,
   "metadata": {},
   "outputs": [],
   "source": [
    "# インポート\n",
    "import xml.etree.ElementTree as ET\n",
    "from bs4 import BeautifulSoup as bs4\n",
    "import numpy as np\n",
    "import pandas as pd\n",
    "import matplotlib.pyplot as plt\n",
    "import glob"
   ]
  },
  {
   "cell_type": "code",
   "execution_count": 2,
   "metadata": {},
   "outputs": [],
   "source": [
    "# 表示関連\n",
    "# DataFrameの列数設定\n",
    "pd.set_option('display.max_columns', 500)"
   ]
  },
  {
   "cell_type": "code",
   "execution_count": 3,
   "metadata": {},
   "outputs": [],
   "source": [
    "# XMLファイルを解析\n",
    "soupList = []\n",
    "labelList = []\n",
    "fileNames = glob.glob('xml/*/*.xml')\n",
    "for file in fileNames:\n",
    "    with open(file, encoding='utf-8') as f:\n",
    "        soup = bs4(f.read(), \"lxml\")\n",
    "    soupList.append(soup)\n",
    "    labelList.append(int(file[4:6]))"
   ]
  },
  {
   "cell_type": "code",
   "execution_count": 4,
   "metadata": {},
   "outputs": [],
   "source": [
    "# XMLを取得\n",
    "companyProfile = ''\n",
    "textList = []\n",
    "targetList = []\n",
    "for i in range(len(soupList)):\n",
    "    for doc in soupList[i].find_all('doc'):\n",
    "        companyProfile = doc.text\n",
    "        # 改行で分割\n",
    "        devided_text = companyProfile.splitlines()\n",
    "        joined_devided_text = ' '.join(devided_text)\n",
    "        # カンマの除去\n",
    "        clean_text = joined_devided_text.replace(',','')\n",
    "        textList.append(clean_text)\n",
    "        targetList.append(labelList[i])\n",
    "        companyProfile = ''"
   ]
  },
  {
   "cell_type": "code",
   "execution_count": 5,
   "metadata": {},
   "outputs": [
    {
     "data": {
      "text/html": [
       "<div>\n",
       "<style scoped>\n",
       "    .dataframe tbody tr th:only-of-type {\n",
       "        vertical-align: middle;\n",
       "    }\n",
       "\n",
       "    .dataframe tbody tr th {\n",
       "        vertical-align: top;\n",
       "    }\n",
       "\n",
       "    .dataframe thead th {\n",
       "        text-align: right;\n",
       "    }\n",
       "</style>\n",
       "<table border=\"1\" class=\"dataframe\">\n",
       "  <thead>\n",
       "    <tr style=\"text-align: right;\">\n",
       "      <th></th>\n",
       "      <th>text</th>\n",
       "      <th>target</th>\n",
       "    </tr>\n",
       "  </thead>\n",
       "  <tbody>\n",
       "    <tr>\n",
       "      <th>0</th>\n",
       "      <td>ドール・フード・カンパニー  ドール・フード・カンパニー（Dole Food Compan...</td>\n",
       "      <td>1</td>\n",
       "    </tr>\n",
       "    <tr>\n",
       "      <th>1</th>\n",
       "      <td>南ヶ丘牧場  株式会社 南ヶ丘牧場（みなみがおかぼくじょう）は、栃木県那須高原に本拠を置く...</td>\n",
       "      <td>1</td>\n",
       "    </tr>\n",
       "    <tr>\n",
       "      <th>2</th>\n",
       "      <td>岩瀬牧場  岩瀬牧場（いわせぼくじょう）は、日本の福島県岩瀬郡鏡石町にある牧場である。  ...</td>\n",
       "      <td>1</td>\n",
       "    </tr>\n",
       "    <tr>\n",
       "      <th>3</th>\n",
       "      <td>クラギ  クラギ株式会社（くらぎ、\"KURAGI Co.Ltd.\" ）は、三重県を中心に「...</td>\n",
       "      <td>1</td>\n",
       "    </tr>\n",
       "    <tr>\n",
       "      <th>4</th>\n",
       "      <td>ハッピーネモファーム  株式会社ハッピーネモファーム（\"\"）は、北海道浦河郡浦河町にある競...</td>\n",
       "      <td>1</td>\n",
       "    </tr>\n",
       "  </tbody>\n",
       "</table>\n",
       "</div>"
      ],
      "text/plain": [
       "                                                text  target\n",
       "0   ドール・フード・カンパニー  ドール・フード・カンパニー（Dole Food Compan...       1\n",
       "1   南ヶ丘牧場  株式会社 南ヶ丘牧場（みなみがおかぼくじょう）は、栃木県那須高原に本拠を置く...       1\n",
       "2   岩瀬牧場  岩瀬牧場（いわせぼくじょう）は、日本の福島県岩瀬郡鏡石町にある牧場である。  ...       1\n",
       "3   クラギ  クラギ株式会社（くらぎ、\"KURAGI Co.Ltd.\" ）は、三重県を中心に「...       1\n",
       "4   ハッピーネモファーム  株式会社ハッピーネモファーム（\"\"）は、北海道浦河郡浦河町にある競...       1"
      ]
     },
     "execution_count": 5,
     "metadata": {},
     "output_type": "execute_result"
    }
   ],
   "source": [
    "# Pandasへ変換 \n",
    "work1_pd = pd.DataFrame(textList,columns=['text'])\n",
    "work2_pd = pd.DataFrame(targetList,columns=['target'])\n",
    "text_pd = pd.concat([work1_pd, work2_pd], axis=1)\n",
    "text_pd.head()"
   ]
  },
  {
   "cell_type": "code",
   "execution_count": 6,
   "metadata": {},
   "outputs": [],
   "source": [
    "# CSV出力\n",
    "text_pd.to_csv(\"csv/train.csv\",index = False, encoding='utf-8')"
   ]
  }
 ],
 "metadata": {
  "kernelspec": {
   "display_name": "Python 3",
   "language": "python",
   "name": "python3"
  },
  "language_info": {
   "codemirror_mode": {
    "name": "ipython",
    "version": 3
   },
   "file_extension": ".py",
   "mimetype": "text/x-python",
   "name": "python",
   "nbconvert_exporter": "python",
   "pygments_lexer": "ipython3",
   "version": "3.6.6"
  }
 },
 "nbformat": 4,
 "nbformat_minor": 2
}
