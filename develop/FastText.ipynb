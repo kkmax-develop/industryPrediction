{
 "cells": [
  {
   "cell_type": "code",
   "execution_count": 1,
   "metadata": {},
   "outputs": [
    {
     "name": "stderr",
     "output_type": "stream",
     "text": [
      "D:\\Program\\Anaconda3\\envs\\sklearn1.9.1\\lib\\site-packages\\sklearn\\externals\\joblib\\__init__.py:15: DeprecationWarning: sklearn.externals.joblib is deprecated in 0.21 and will be removed in 0.23. Please import this functionality directly from joblib, which can be installed with: pip install joblib. If this warning is raised when loading pickled models, you may need to re-serialize those models with scikit-learn 0.21+.\n",
      "  warnings.warn(msg, category=DeprecationWarning)\n"
     ]
    }
   ],
   "source": [
    "# データ分析・操作用ライブラリ\n",
    "import pandas as pd \n",
    "import numpy as np\n",
    "import matplotlib.pyplot as plt\n",
    "import japanize_matplotlib\n",
    "import seaborn as sns\n",
    "\n",
    "# NLP用ライブラリ\n",
    "import MeCab,re\n",
    "from sklearn.feature_extraction.text import TfidfVectorizer\n",
    "from gensim.models import word2vec\n",
    "\n",
    "# スコア評価用ライブラリ\n",
    "from sklearn.model_selection import train_test_split\n",
    "from sklearn.model_selection import cross_val_score\n",
    "from sklearn.metrics import precision_recall_fscore_support\n",
    "\n",
    "# モデルの読み込み、保存\n",
    "from sklearn.externals import joblib\n",
    "\n",
    "# エラー表示の抑制\n",
    "import warnings"
   ]
  },
  {
   "cell_type": "code",
   "execution_count": 2,
   "metadata": {},
   "outputs": [],
   "source": [
    "# 表示関連\n",
    "# DataFrameの列数設定\n",
    "pd.set_option('display.max_columns', 500)\n",
    "pd.set_option(\"display.max_rows\", 500)\n",
    "warnings.filterwarnings('ignore')"
   ]
  },
  {
   "cell_type": "code",
   "execution_count": 3,
   "metadata": {},
   "outputs": [],
   "source": [
    "def tokenize(text):\n",
    "    tokens = []\n",
    "    tagger = MeCab.Tagger()\n",
    "    node = tagger.parseToNode(text)\n",
    "    while node:\n",
    "        if node.feature.split(\",\")[0] in ['名詞'] :\n",
    "                replace_node = re.sub( re.compile( \"[!-/:-@[-`{-~]\" ), \"\", node.surface )\n",
    "                if replace_node != \"\" and replace_node != \" \":\n",
    "                    tokens.append(replace_node)\n",
    "        node = node.next\n",
    "    return tokens"
   ]
  },
  {
   "cell_type": "code",
   "execution_count": 4,
   "metadata": {},
   "outputs": [],
   "source": [
    "def MeanEmbeddingVectorizer(arr, model):\n",
    "    mean_vectors = []\n",
    "    for document in arr:\n",
    "        tokens = tokenize(document)\n",
    "        vectors = [model.get_vector(token) for token in tokens if token in model.vocab]\n",
    "        if vectors:\n",
    "            mean_vec = np.vstack(vectors).mean(axis=0)\n",
    "            mean_vectors.append(mean_vec)\n",
    "        else:\n",
    "            mean_vectors.append(np.zeros(100))\n",
    "        embedding = np.vstack(mean_vectors)        \n",
    "    return embedding"
   ]
  },
  {
   "cell_type": "code",
   "execution_count": 5,
   "metadata": {},
   "outputs": [
    {
     "data": {
      "text/html": [
       "<div>\n",
       "<style scoped>\n",
       "    .dataframe tbody tr th:only-of-type {\n",
       "        vertical-align: middle;\n",
       "    }\n",
       "\n",
       "    .dataframe tbody tr th {\n",
       "        vertical-align: top;\n",
       "    }\n",
       "\n",
       "    .dataframe thead th {\n",
       "        text-align: right;\n",
       "    }\n",
       "</style>\n",
       "<table border=\"1\" class=\"dataframe\">\n",
       "  <thead>\n",
       "    <tr style=\"text-align: right;\">\n",
       "      <th></th>\n",
       "      <th>text</th>\n",
       "      <th>target</th>\n",
       "    </tr>\n",
       "  </thead>\n",
       "  <tbody>\n",
       "    <tr>\n",
       "      <th>0</th>\n",
       "      <td>ドール・フード・カンパニー  ドール・フード・カンパニー  Dole  Food  Comp...</td>\n",
       "      <td>1</td>\n",
       "    </tr>\n",
       "    <tr>\n",
       "      <th>1</th>\n",
       "      <td>南ヶ丘牧場  株式会社  南ヶ丘牧場  みなみ  じょう  栃木県  那須高原  本拠  酪...</td>\n",
       "      <td>1</td>\n",
       "    </tr>\n",
       "    <tr>\n",
       "      <th>2</th>\n",
       "      <td>岩瀬牧場  岩瀬牧場  ぼくじょう  日本  福島県  岩瀬  郡  鏡石町  牧場  鏡石...</td>\n",
       "      <td>1</td>\n",
       "    </tr>\n",
       "    <tr>\n",
       "      <th>3</th>\n",
       "      <td>くら  ぎ  GI  Co  Ltd  三重県  中心  農業  店舗  展開  会社  本...</td>\n",
       "      <td>1</td>\n",
       "    </tr>\n",
       "    <tr>\n",
       "      <th>4</th>\n",
       "      <td>ハッピーネモファーム  株式会社  ハッピーネモファーム  北海道  浦河  郡  浦河町 ...</td>\n",
       "      <td>1</td>\n",
       "    </tr>\n",
       "  </tbody>\n",
       "</table>\n",
       "</div>"
      ],
      "text/plain": [
       "                                                text  target\n",
       "0  ドール・フード・カンパニー  ドール・フード・カンパニー  Dole  Food  Comp...       1\n",
       "1  南ヶ丘牧場  株式会社  南ヶ丘牧場  みなみ  じょう  栃木県  那須高原  本拠  酪...       1\n",
       "2  岩瀬牧場  岩瀬牧場  ぼくじょう  日本  福島県  岩瀬  郡  鏡石町  牧場  鏡石...       1\n",
       "3  くら  ぎ  GI  Co  Ltd  三重県  中心  農業  店舗  展開  会社  本...       1\n",
       "4  ハッピーネモファーム  株式会社  ハッピーネモファーム  北海道  浦河  郡  浦河町 ...       1"
      ]
     },
     "execution_count": 5,
     "metadata": {},
     "output_type": "execute_result"
    }
   ],
   "source": [
    "# テキストデータの読み込み\n",
    "wikiData = pd.read_csv(\"csv/train_cleaned.csv\", encoding=\"utf-8\")\n",
    "\n",
    "# 読み込みデータの表示\n",
    "wikiData.head()"
   ]
  },
  {
   "cell_type": "code",
   "execution_count": 6,
   "metadata": {},
   "outputs": [],
   "source": [
    "# Numpy配列へ変換\n",
    "X = wikiData.text.values\n",
    "y = wikiData.target.values"
   ]
  },
  {
   "cell_type": "code",
   "execution_count": 7,
   "metadata": {},
   "outputs": [],
   "source": [
    "# トレーニングデータ、テストデータの分割\n",
    "X_train, X_test, y_train, y_test = train_test_split(X , y, test_size=0.2, random_state=42, stratify=y)"
   ]
  },
  {
   "cell_type": "code",
   "execution_count": 8,
   "metadata": {},
   "outputs": [],
   "source": [
    "# 分散表現の読み込み\n",
    "import gensim.models.keyedvectors as word2vec_for_txt\n",
    "model_dir = 'model/fastText.model.vec'\n",
    "model = word2vec_for_txt.KeyedVectors.load_word2vec_format(model_dir, binary=False)"
   ]
  },
  {
   "cell_type": "code",
   "execution_count": 9,
   "metadata": {},
   "outputs": [],
   "source": [
    "# 分散表現へ変換\n",
    "X_train = MeanEmbeddingVectorizer(X_train, model)\n",
    "X_test = MeanEmbeddingVectorizer(X_test, model)"
   ]
  },
  {
   "cell_type": "code",
   "execution_count": 10,
   "metadata": {},
   "outputs": [
    {
     "name": "stdout",
     "output_type": "stream",
     "text": [
      "Training score：0.999890877346\n",
      "Cross-Validation score：0.699515856083\n",
      "Test score：0.692274116107\n"
     ]
    }
   ],
   "source": [
    "# Light GBM\n",
    "import lightgbm as lgb\n",
    "\n",
    "clf = lgb.LGBMClassifier(objective='multiclass', num_class=33)\n",
    "clf.fit(X_train, y_train)\n",
    "cv_scores = cross_val_score(clf, X_train, y_train, cv=5)\n",
    "\n",
    "print(\"Training score：\" + str(clf.score(X_train, y_train)))\n",
    "print(\"Cross-Validation score：\" + str(np.mean(cv_scores)))\n",
    "print(\"Test score：\" + str(clf.score(X_test, y_test)))"
   ]
  },
  {
   "cell_type": "code",
   "execution_count": 11,
   "metadata": {},
   "outputs": [
    {
     "data": {
      "text/plain": [
       "['model/lgbm_fastText.pkl']"
      ]
     },
     "execution_count": 11,
     "metadata": {},
     "output_type": "execute_result"
    }
   ],
   "source": [
    "# 学習結果の保存\n",
    "joblib.dump(clf, 'model/lgbm_fastText.pkl')"
   ]
  },
  {
   "cell_type": "code",
   "execution_count": 12,
   "metadata": {},
   "outputs": [
    {
     "data": {
      "image/png": "[encoded data removed]",
      "text/plain": [
       "<Figure size 1296x576 with 1 Axes>"
      ]
     },
     "metadata": {
      "needs_background": "light"
     },
     "output_type": "display_data"
    }
   ],
   "source": [
    "# テストスコアのクラス別適合率、再現率、F1値を計算\n",
    "pred_test = clf.predict(X_test)\n",
    "p_r_f = precision_recall_fscore_support(y_test, pred_test)\n",
    "wiki_gpby = wikiData.groupby('target').count()\n",
    "y = wiki_gpby['text'].values\n",
    "x =wiki_gpby.index.values\n",
    "\n",
    "# クラス別適合率、再現率、F1値を表示\n",
    "plt.figure(figsize=(18, 8))\n",
    "plt.title(\"クラス別適合率、再現率、F1値\")\n",
    "plt.ylabel(\"score\")\n",
    "plt.xticks(x)\n",
    "plt.bar(x-0.25, p_r_f[0], width=0.2, label='pre')\n",
    "plt.bar(x, p_r_f[1], width=0.2, label='rec')\n",
    "plt.bar(x+0.25, p_r_f[2], width=0.2, label='F1')\n",
    "plt.legend(loc=2)    \n",
    "plt.show()"
   ]
  },
  {
   "cell_type": "code",
   "execution_count": 28,
   "metadata": {},
   "outputs": [
    {
     "name": "stdout",
     "output_type": "stream",
     "text": [
      "Training score：0.762221737233\n",
      "Cross-Validation score：0.726550542839\n",
      "Test score：0.714098646879\n",
      "Training score：0.739633347883\n",
      "Cross-Validation score：0.713777995434\n",
      "Test score：0.704932343955\n"
     ]
    }
   ],
   "source": [
    "# ロジスティック回帰\n",
    "from sklearn.linear_model import LogisticRegression\n",
    "\n",
    "## multinomial\n",
    "clf2 = LogisticRegression(solver='lbfgs', multi_class = 'multinomial', random_state=42)\n",
    "clf2.fit(X_train, y_train)\n",
    "cv_scores = cross_val_score(clf2, X_train, y_train, cv=5)\n",
    "\n",
    "print(\"Training score：\" + str(clf2.score(X_train, y_train)))\n",
    "print(\"Cross-Validation score：\" + str(np.mean(cv_scores)))\n",
    "print(\"Test score：\" + str(clf2.score(X_test, y_test)))\n",
    "                          \n",
    "## One-versus-the-rest\n",
    "clf3 = LogisticRegression(solver='liblinear', multi_class = 'ovr', random_state=42)\n",
    "clf3.fit(X_train, y_train)\n",
    "cv_scores = cross_val_score(clf3, X_train, y_train, cv=5)\n",
    "\n",
    "print(\"Training score：\" + str(clf3.score(X_train, y_train)))\n",
    "print(\"Cross-Validation score：\" + str(np.mean(cv_scores)))\n",
    "print(\"Test score：\" + str(clf3.score(X_test, y_test)))"
   ]
  },
  {
   "cell_type": "code",
   "execution_count": 29,
   "metadata": {},
   "outputs": [
    {
     "data": {
      "text/plain": [
       "['model/lr_ovr_fastText.pkl']"
      ]
     },
     "execution_count": 29,
     "metadata": {},
     "output_type": "execute_result"
    }
   ],
   "source": [
    "# 学習結果の保存\n",
    "joblib.dump(clf2, 'model/lr_mul_fastText.pkl')\n",
    "joblib.dump(clf3, 'model/lr_ovr_fastText.pkl')"
   ]
  },
  {
   "cell_type": "code",
   "execution_count": 14,
   "metadata": {},
   "outputs": [
    {
     "data": {
      "image/png": "[encoded data removed]",
      "text/plain": [
       "<Figure size 1296x576 with 1 Axes>"
      ]
     },
     "metadata": {
      "needs_background": "light"
     },
     "output_type": "display_data"
    }
   ],
   "source": [
    "# テストスコアのクラス別適合率、再現率、F1値を計算\n",
    "pred_test = clf2.predict(X_test)\n",
    "p_r_f = precision_recall_fscore_support(y_test, pred_test)\n",
    "\n",
    "# クラス別適合率、再現率、F1値を表示\n",
    "plt.figure(figsize=(18, 8))\n",
    "plt.title(\"クラス別適合率、再現率、F1値\")\n",
    "plt.ylabel(\"score\")\n",
    "plt.xticks(x)\n",
    "plt.bar(x-0.25, p_r_f[0], width=0.2, label='pre')\n",
    "plt.bar(x, p_r_f[1], width=0.2, label='rec')\n",
    "plt.bar(x+0.25, p_r_f[2], width=0.2, label='F1')\n",
    "plt.legend(loc=2)    \n",
    "plt.show()"
   ]
  },
  {
   "cell_type": "code",
   "execution_count": 15,
   "metadata": {},
   "outputs": [
    {
     "data": {
      "image/png": "[encoded data removed]",
      "text/plain": [
       "<Figure size 1296x576 with 1 Axes>"
      ]
     },
     "metadata": {
      "needs_background": "light"
     },
     "output_type": "display_data"
    }
   ],
   "source": [
    "# テストスコアのクラス別適合率、再現率、F1値を計算\n",
    "pred_test = clf3.predict(X_test)\n",
    "p_r_f = precision_recall_fscore_support(y_test, pred_test)\n",
    "\n",
    "# クラス別適合率、再現率、F1値を表示\n",
    "plt.figure(figsize=(18, 8))\n",
    "plt.title(\"クラス別適合率、再現率、F1値\")\n",
    "plt.ylabel(\"score\")\n",
    "plt.xticks(x)\n",
    "plt.bar(x-0.25, p_r_f[0], width=0.2, label='pre')\n",
    "plt.bar(x, p_r_f[1], width=0.2, label='rec')\n",
    "plt.bar(x+0.25, p_r_f[2], width=0.2, label='F1')\n",
    "plt.legend(loc=2)    \n",
    "plt.show()"
   ]
  },
  {
   "cell_type": "code",
   "execution_count": 16,
   "metadata": {},
   "outputs": [
    {
     "name": "stdout",
     "output_type": "stream",
     "text": [
      "Training score：0.61752509821\n",
      "Cross-Validation score：0.591349495157\n",
      "Test score：0.594936708861\n",
      "Training score：0.61752509821\n",
      "Cross-Validation score：0.591349495157\n",
      "Test score：0.594936708861\n"
     ]
    }
   ],
   "source": [
    "# SVM\n",
    "from sklearn.svm import SVC\n",
    "\n",
    "## パラメーター設定\n",
    "kernel = 'rbf'\n",
    "\n",
    "## One-versus-the-rest\n",
    "clf4 = SVC(kernel=kernel, decision_function_shape='ovr', random_state=42)\n",
    "clf4.fit(X_train, y_train)\n",
    "cv_scores = cross_val_score(clf4, X_train, y_train, cv=5)\n",
    "\n",
    "print(\"Training score：\" + str(clf4.score(X_train, y_train)))\n",
    "print(\"Cross-Validation score：\" + str(np.mean(cv_scores)))\n",
    "print(\"Test score：\" + str(clf4.score(X_test, y_test)))\n",
    "                          \n",
    "\n",
    "## One-versus-the-one(multi-class default)\n",
    "clf5 = SVC(kernel=kernel,  decision_function_shape='ovo', random_state=42)\n",
    "clf5.fit(X_train, y_train)\n",
    "cv_scores = cross_val_score(clf5, X_train, y_train, cv=5)\n",
    "\n",
    "print(\"Training score：\" + str(clf5.score(X_train, y_train)))\n",
    "print(\"Cross-Validation score：\" + str(np.mean(cv_scores)))\n",
    "print(\"Test score：\" + str(clf5.score(X_test, y_test)))"
   ]
  },
  {
   "cell_type": "code",
   "execution_count": 17,
   "metadata": {},
   "outputs": [
    {
     "data": {
      "image/png": "[encoded data removed]",
      "text/plain": [
       "<Figure size 1296x576 with 1 Axes>"
      ]
     },
     "metadata": {
      "needs_background": "light"
     },
     "output_type": "display_data"
    }
   ],
   "source": [
    "# テストスコアのクラス別適合率、再現率、F1値を計算\n",
    "pred_test = clf4.predict(X_test)\n",
    "p_r_f = precision_recall_fscore_support(y_test, pred_test)\n",
    "\n",
    "# クラス別適合率、再現率、F1値を表示\n",
    "plt.figure(figsize=(18, 8))\n",
    "plt.title(\"クラス別適合率、再現率、F1値\")\n",
    "plt.ylabel(\"score\")\n",
    "plt.xticks(x)\n",
    "plt.bar(x-0.25, p_r_f[0], width=0.2, label='pre')\n",
    "plt.bar(x, p_r_f[1], width=0.2, label='rec')\n",
    "plt.bar(x+0.25, p_r_f[2], width=0.2, label='F1')\n",
    "plt.legend(loc=2)    \n",
    "plt.show()"
   ]
  },
  {
   "cell_type": "code",
   "execution_count": 18,
   "metadata": {},
   "outputs": [
    {
     "data": {
      "image/png": "[encoded data removed]",
      "text/plain": [
       "<Figure size 1296x576 with 1 Axes>"
      ]
     },
     "metadata": {
      "needs_background": "light"
     },
     "output_type": "display_data"
    }
   ],
   "source": [
    "# テストスコアのクラス別適合率、再現率、F1値を計算\n",
    "pred_test = clf5.predict(X_test)\n",
    "p_r_f = precision_recall_fscore_support(y_test, pred_test)\n",
    "\n",
    "# クラス別適合率、再現率、F1値を表示\n",
    "plt.figure(figsize=(18, 8))\n",
    "plt.title(\"クラス別適合率、再現率、F1値\")\n",
    "plt.ylabel(\"score\")\n",
    "plt.xticks(x)\n",
    "plt.bar(x-0.25, p_r_f[0], width=0.2, label='pre')\n",
    "plt.bar(x, p_r_f[1], width=0.2, label='rec')\n",
    "plt.bar(x+0.25, p_r_f[2], width=0.2, label='F1')\n",
    "plt.legend(loc=2)    \n",
    "plt.show()"
   ]
  },
  {
   "cell_type": "code",
   "execution_count": 23,
   "metadata": {},
   "outputs": [
    {
     "name": "stdout",
     "output_type": "stream",
     "text": [
      "Training score：0.792448712353\n",
      "Cross-Validation score：0.741262884185\n",
      "Test score：0.731994762113\n",
      "Training score：0.792448712353\n",
      "Cross-Validation score：0.741262884185\n",
      "Test score：0.731994762113\n"
     ]
    }
   ],
   "source": [
    "# SVC(Liner)\n",
    "\n",
    "## パラメーター設定\n",
    "kernel = 'linear'\n",
    "\n",
    "## One-versus-the-rest(multi-class default)\n",
    "clf6 =  SVC(kernel=kernel, decision_function_shape='ovr', probability = True, random_state=42)\n",
    "clf6.fit(X_train, y_train)\n",
    "cv_scores = cross_val_score(clf6, X_train, y_train, cv=5)\n",
    "\n",
    "print(\"Training score：\" + str(clf6.score(X_train, y_train)))\n",
    "print(\"Cross-Validation score：\" + str(np.mean(cv_scores)))\n",
    "print(\"Test score：\" + str(clf6.score(X_test, y_test)))\n",
    "                          \n",
    "\n",
    "## crammer_singer\n",
    "clf7 = SVC(kernel=kernel,  decision_function_shape='ovo', probability = True ,random_state=42)\n",
    "clf7.fit(X_train, y_train)\n",
    "cv_scores = cross_val_score(clf7, X_train, y_train, cv=5)\n",
    "\n",
    "print(\"Training score：\" + str(clf7.score(X_train, y_train)))\n",
    "print(\"Cross-Validation score：\" + str(np.mean(cv_scores)))\n",
    "print(\"Test score：\" + str(clf7.score(X_test, y_test)))"
   ]
  },
  {
   "cell_type": "code",
   "execution_count": 24,
   "metadata": {},
   "outputs": [
    {
     "data": {
      "text/plain": [
       "['model/lsvc_ovo_fastText.pkl']"
      ]
     },
     "execution_count": 24,
     "metadata": {},
     "output_type": "execute_result"
    }
   ],
   "source": [
    "# 学習結果の保存\n",
    "joblib.dump(clf6, 'model/lsvc_ovr_fastText.pkl')\n",
    "joblib.dump(clf7, 'model/lsvc_ovo_fastText.pkl')"
   ]
  },
  {
   "cell_type": "code",
   "execution_count": 21,
   "metadata": {},
   "outputs": [
    {
     "data": {
      "image/png": "[encoded data removed]",
      "text/plain": [
       "<Figure size 1296x576 with 1 Axes>"
      ]
     },
     "metadata": {
      "needs_background": "light"
     },
     "output_type": "display_data"
    }
   ],
   "source": [
    "# テストスコアのクラス別適合率、再現率、F1値を計算\n",
    "pred_test = clf6.predict(X_test)\n",
    "p_r_f = precision_recall_fscore_support(y_test, pred_test)\n",
    "\n",
    "# クラス別適合率、再現率、F1値を表示\n",
    "plt.figure(figsize=(18, 8))\n",
    "plt.title(\"クラス別適合率、再現率、F1値\")\n",
    "plt.ylabel(\"score\")\n",
    "plt.xticks(x)\n",
    "plt.bar(x-0.25, p_r_f[0], width=0.2, label='pre')\n",
    "plt.bar(x, p_r_f[1], width=0.2, label='rec')\n",
    "plt.bar(x+0.25, p_r_f[2], width=0.2, label='F1')\n",
    "plt.legend(loc=2)    \n",
    "plt.show()"
   ]
  },
  {
   "cell_type": "code",
   "execution_count": 22,
   "metadata": {},
   "outputs": [
    {
     "data": {
      "image/png": "[encoded data removed]",
      "text/plain": [
       "<Figure size 1296x576 with 1 Axes>"
      ]
     },
     "metadata": {
      "needs_background": "light"
     },
     "output_type": "display_data"
    }
   ],
   "source": [
    "# テストスコアのクラス別適合率、再現率、F1値を計算\n",
    "pred_test = clf7.predict(X_test)\n",
    "p_r_f = precision_recall_fscore_support(y_test, pred_test)\n",
    "\n",
    "# クラス別適合率、再現率、F1値を表示\n",
    "plt.figure(figsize=(18, 8))\n",
    "plt.title(\"クラス別適合率、再現率、F1値\")\n",
    "plt.ylabel(\"score\")\n",
    "plt.xticks(x)\n",
    "plt.bar(x-0.25, p_r_f[0], width=0.2, label='pre')\n",
    "plt.bar(x, p_r_f[1], width=0.2, label='rec')\n",
    "plt.bar(x+0.25, p_r_f[2], width=0.2, label='F1')\n",
    "plt.legend(loc=2)    \n",
    "plt.show()"
   ]
  }
 ],
 "metadata": {
  "kernelspec": {
   "display_name": "Python 3",
   "language": "python",
   "name": "python3"
  },
  "language_info": {
   "codemirror_mode": {
    "name": "ipython",
    "version": 3
   },
   "file_extension": ".py",
   "mimetype": "text/x-python",
   "name": "python",
   "nbconvert_exporter": "python",
   "pygments_lexer": "ipython3",
   "version": "3.6.6"
  }
 },
 "nbformat": 4,
 "nbformat_minor": 2
}
