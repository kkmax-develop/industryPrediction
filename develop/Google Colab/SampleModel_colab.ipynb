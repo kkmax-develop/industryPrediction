{
 "cells": [
  {
   "cell_type": "code",
   "execution_count": 1,
   "metadata": {
    "colab": {
     "base_uri": "https://localhost:8080/",
     "height": 119
    },
    "colab_type": "code",
    "executionInfo": {
     "elapsed": 103910,
     "status": "ok",
     "timestamp": 1568041470636,
     "user": {
      "displayName": "鎌田康太郎",
      "photoUrl": "https://lh3.googleusercontent.com/a-/AAuE7mC68O0Hbcn7FQp1sU_myImuC4zVoLawyaZgBPIQ=s64",
      "userId": "14776559597549076807"
     },
     "user_tz": -540
    },
    "id": "OLP4CIS0hutt",
    "outputId": "6a92c2c6-ff1f-4ca4-d31b-0f872981b4d5"
   },
   "outputs": [
    {
     "name": "stdout",
     "output_type": "stream",
     "text": [
      "Cloning into 'mecab-ipadic-neologd'...\n",
      "remote: Enumerating objects: 75, done.\u001b[K\n",
      "remote: Counting objects: 100% (75/75), done.\u001b[K\n",
      "remote: Compressing objects: 100% (74/74), done.\u001b[K\n",
      "remote: Total 75 (delta 5), reused 54 (delta 0), pack-reused 0\u001b[K\n",
      "Unpacking objects: 100% (75/75), done.\n"
     ]
    }
   ],
   "source": [
    "# install MeCab\n",
    "!apt-get -q -y install sudo file mecab libmecab-dev mecab-ipadic-utf8 git curl python-mecab > /dev/null\n",
    "!git clone --depth 1 https://github.com/neologd/mecab-ipadic-neologd.git > /dev/null \n",
    "!echo yes | mecab-ipadic-neologd/bin/install-mecab-ipadic-neologd -n > /dev/null 2>&1\n",
    "!pip install mecab-python3 > /dev/null"
   ]
  },
  {
   "cell_type": "code",
   "execution_count": 2,
   "metadata": {
    "colab": {
     "base_uri": "https://localhost:8080/",
     "height": 34
    },
    "colab_type": "code",
    "executionInfo": {
     "elapsed": 106861,
     "status": "ok",
     "timestamp": 1568041473604,
     "user": {
      "displayName": "鎌田康太郎",
      "photoUrl": "https://lh3.googleusercontent.com/a-/AAuE7mC68O0Hbcn7FQp1sU_myImuC4zVoLawyaZgBPIQ=s64",
      "userId": "14776559597549076807"
     },
     "user_tz": -540
    },
    "id": "b604Z-GEhyCp",
    "outputId": "c61ef01c-9f0f-4fd6-e8c3-a3d188b9ec73"
   },
   "outputs": [
    {
     "name": "stdout",
     "output_type": "stream",
     "text": [
      "/usr/lib/x86_64-linux-gnu/mecab/dic/mecab-ipadic-neologd\n"
     ]
    }
   ],
   "source": [
    "# check path to \"ipadic-neologd\" \n",
    "!echo `mecab-config --dicdir`\"/mecab-ipadic-neologd\""
   ]
  },
  {
   "cell_type": "code",
   "execution_count": 3,
   "metadata": {
    "colab": {
     "base_uri": "https://localhost:8080/",
     "height": 408
    },
    "colab_type": "code",
    "executionInfo": {
     "elapsed": 106854,
     "status": "ok",
     "timestamp": 1568041473606,
     "user": {
      "displayName": "鎌田康太郎",
      "photoUrl": "https://lh3.googleusercontent.com/a-/AAuE7mC68O0Hbcn7FQp1sU_myImuC4zVoLawyaZgBPIQ=s64",
      "userId": "14776559597549076807"
     },
     "user_tz": -540
    },
    "id": "VnxDkTmIicd9",
    "outputId": "37e8e9b1-b820-4f68-cc01-905a2e4aac07"
   },
   "outputs": [
    {
     "name": "stdout",
     "output_type": "stream",
     "text": [
      "Mecab:\n",
      " 北斗\t名詞,一般,*,*,*,*,北斗,ホクト,ホクト\n",
      "の\t助詞,連体化,*,*,*,*,の,ノ,ノ\n",
      "拳\t名詞,一般,*,*,*,*,拳,コブシ,コブシ\n",
      "の\t助詞,連体化,*,*,*,*,の,ノ,ノ\n",
      "原作\t名詞,一般,*,*,*,*,原作,ゲンサク,ゲンサク\n",
      "者\t名詞,接尾,一般,*,*,*,者,シャ,シャ\n",
      "は\t助詞,係助詞,*,*,*,*,は,ハ,ワ\n",
      "武\t名詞,一般,*,*,*,*,武,ブ,ブ\n",
      "論\t名詞,接尾,一般,*,*,*,論,ロン,ロン\n",
      "尊\t名詞,一般,*,*,*,*,尊,ミコト,ミコト\n",
      "。\t記号,句点,*,*,*,*,。,。,。\n",
      "EOS\n",
      "\n",
      "Mecab ipadic NEologd:\n",
      " 北斗の拳\t名詞,固有名詞,一般,*,*,*,北斗の拳,ホクトノケン,ホクトノケン\n",
      "の\t助詞,連体化,*,*,*,*,の,ノ,ノ\n",
      "原作者\t名詞,固有名詞,一般,*,*,*,原作者,ゲンサクシャ,ゲンサクシャ\n",
      "は\t助詞,係助詞,*,*,*,*,は,ハ,ワ\n",
      "武論尊\t名詞,固有名詞,人名,一般,*,*,武論尊,ブロンソン,ブロンソン\n",
      "。\t記号,句点,*,*,*,*,。,。,。\n",
      "EOS\n",
      "\n"
     ]
    }
   ],
   "source": [
    "# Test\n",
    "import MeCab\n",
    "m = MeCab.Tagger()\n",
    "sample_txt = \"北斗の拳の原作者は武論尊。\"\n",
    "print(\"Mecab:\\n\", m.parse(sample_txt))\n",
    "\n",
    "path = \"-d /usr/lib/x86_64-linux-gnu/mecab/dic/mecab-ipadic-neologd\"\n",
    "m = MeCab.Tagger(path)\n",
    "print(\"Mecab ipadic NEologd:\\n\",m.parse(sample_txt))"
   ]
  },
  {
   "cell_type": "code",
   "execution_count": 4,
   "metadata": {
    "colab": {
     "base_uri": "https://localhost:8080/",
     "height": 187
    },
    "colab_type": "code",
    "executionInfo": {
     "elapsed": 113899,
     "status": "ok",
     "timestamp": 1568041480662,
     "user": {
      "displayName": "鎌田康太郎",
      "photoUrl": "https://lh3.googleusercontent.com/a-/AAuE7mC68O0Hbcn7FQp1sU_myImuC4zVoLawyaZgBPIQ=s64",
      "userId": "14776559597549076807"
     },
     "user_tz": -540
    },
    "id": "YEiLUMtoh3UG",
    "outputId": "9c618027-a1fe-4a92-e3ee-90a402f06866"
   },
   "outputs": [
    {
     "name": "stdout",
     "output_type": "stream",
     "text": [
      "Collecting japanize-matplotlib\n",
      "\u001b[?25l  Downloading https://files.pythonhosted.org/packages/aa/c0/b75d434be51a8cc11d2e9b36f2d7f93a1bcf63bde24dc79a61d329d60b2a/japanize-matplotlib-1.0.5.tar.gz (4.1MB)\n",
      "\u001b[K     |████████████████████████████████| 4.1MB 2.7MB/s \n",
      "\u001b[?25hBuilding wheels for collected packages: japanize-matplotlib\n",
      "  Building wheel for japanize-matplotlib (setup.py) ... \u001b[?25l\u001b[?25hdone\n",
      "  Created wheel for japanize-matplotlib: filename=japanize_matplotlib-1.0.5-cp36-none-any.whl size=4118721 sha256=947111ac24265504c5cdf7d20bdbc8e327da91c94065d93da0a5072a3c004b22\n",
      "  Stored in directory: /root/.cache/pip/wheels/6c/8a/08/4a784957da9f3c2b4839b4986be2fba2a481877318948be52c\n",
      "Successfully built japanize-matplotlib\n",
      "Installing collected packages: japanize-matplotlib\n",
      "Successfully installed japanize-matplotlib-1.0.5\n"
     ]
    }
   ],
   "source": [
    "# matplotlibの日本語化\n",
    "!pip install japanize-matplotlib"
   ]
  },
  {
   "cell_type": "code",
   "execution_count": 5,
   "metadata": {
    "colab": {
     "base_uri": "https://localhost:8080/",
     "height": 139
    },
    "colab_type": "code",
    "executionInfo": {
     "elapsed": 641020,
     "status": "ok",
     "timestamp": 1568042007790,
     "user": {
      "displayName": "鎌田康太郎",
      "photoUrl": "https://lh3.googleusercontent.com/a-/AAuE7mC68O0Hbcn7FQp1sU_myImuC4zVoLawyaZgBPIQ=s64",
      "userId": "14776559597549076807"
     },
     "user_tz": -540
    },
    "id": "Wwa3O7K8PwUO",
    "outputId": "cab58091-d8e1-4e7a-d2fe-f88da7e84268"
   },
   "outputs": [
    {
     "name": "stdout",
     "output_type": "stream",
     "text": [
      "Go to this URL in a browser: https://accounts.google.com/o/oauth2/auth?client_id=947318989803-6bn6qk8qdgf4n4g3pfee6491hc0brc4i.apps.googleusercontent.com&redirect_uri=urn%3Aietf%3Awg%3Aoauth%3A2.0%3Aoob&scope=email%20https%3A%2F%2Fwww.googleapis.com%2Fauth%2Fdocs.test%20https%3A%2F%2Fwww.googleapis.com%2Fauth%2Fdrive%20https%3A%2F%2Fwww.googleapis.com%2Fauth%2Fdrive.photos.readonly%20https%3A%2F%2Fwww.googleapis.com%2Fauth%2Fpeopleapi.readonly&response_type=code\n",
      "\n",
      "Enter your authorization code:\n",
      "··········\n",
      "Mounted at /content/drive\n",
      "/content/drive/My Drive/Google Colab/industryPrediction\n"
     ]
    }
   ],
   "source": [
    "# Google Driveへマウント\n",
    "from google.colab import drive\n",
    "drive.mount('/content/drive')\n",
    "# 必要ならば以下のようにディレクトリ移動する\n",
    "%cd /content/drive/'My Drive'/'Google Colab'/'industryPrediction'/"
   ]
  },
  {
   "cell_type": "code",
   "execution_count": 6,
   "metadata": {
    "colab": {
     "base_uri": "https://localhost:8080/",
     "height": 34
    },
    "colab_type": "code",
    "executionInfo": {
     "elapsed": 645147,
     "status": "ok",
     "timestamp": 1568042011943,
     "user": {
      "displayName": "鎌田康太郎",
      "photoUrl": "https://lh3.googleusercontent.com/a-/AAuE7mC68O0Hbcn7FQp1sU_myImuC4zVoLawyaZgBPIQ=s64",
      "userId": "14776559597549076807"
     },
     "user_tz": -540
    },
    "id": "wcbPrUEGP6YS",
    "outputId": "b9e92be0-db56-4f70-9e48-05619380de27"
   },
   "outputs": [
    {
     "name": "stdout",
     "output_type": "stream",
     "text": [
      "Requirement already satisfied: japanize-matplotlib in /usr/local/lib/python3.6/dist-packages (1.0.5)\n"
     ]
    }
   ],
   "source": [
    "!pip install japanize-matplotlib"
   ]
  },
  {
   "cell_type": "code",
   "execution_count": 0,
   "metadata": {
    "colab": {},
    "colab_type": "code",
    "id": "9E-mP4PUPraC"
   },
   "outputs": [],
   "source": [
    "# データ分析・操作用ライブラリ\n",
    "import numpy as np\n",
    "import pandas as pd\n",
    "\n",
    "# NLP用ライブラリ\n",
    "import MeCab,re\n",
    "from sklearn.feature_extraction.text import TfidfVectorizer\n",
    "\n",
    "# スコア評価用ライブラリ\n",
    "from sklearn.model_selection import train_test_split\n",
    "from sklearn.model_selection import cross_val_score\n",
    "from sklearn.metrics import precision_recall_fscore_support\n",
    "\n",
    "# エラー表示の抑制\n",
    "import warnings"
   ]
  },
  {
   "cell_type": "code",
   "execution_count": 0,
   "metadata": {
    "colab": {},
    "colab_type": "code",
    "id": "8zPLRUI-PraU"
   },
   "outputs": [],
   "source": [
    "# 表示関連\n",
    "# DataFrameの列数設定\n",
    "pd.set_option('display.max_columns', 500)\n",
    "pd.set_option(\"display.max_rows\", 500)\n",
    "warnings.filterwarnings('ignore')"
   ]
  },
  {
   "cell_type": "code",
   "execution_count": 9,
   "metadata": {
    "colab": {
     "base_uri": "https://localhost:8080/",
     "height": 204
    },
    "colab_type": "code",
    "executionInfo": {
     "elapsed": 649656,
     "status": "ok",
     "timestamp": 1568042016476,
     "user": {
      "displayName": "鎌田康太郎",
      "photoUrl": "https://lh3.googleusercontent.com/a-/AAuE7mC68O0Hbcn7FQp1sU_myImuC4zVoLawyaZgBPIQ=s64",
      "userId": "14776559597549076807"
     },
     "user_tz": -540
    },
    "id": "OxwKsOUKPrac",
    "outputId": "9207b199-8699-4b91-f170-5b060e88804e"
   },
   "outputs": [
    {
     "data": {
      "text/html": [
       "<div>\n",
       "<style scoped>\n",
       "    .dataframe tbody tr th:only-of-type {\n",
       "        vertical-align: middle;\n",
       "    }\n",
       "\n",
       "    .dataframe tbody tr th {\n",
       "        vertical-align: top;\n",
       "    }\n",
       "\n",
       "    .dataframe thead th {\n",
       "        text-align: right;\n",
       "    }\n",
       "</style>\n",
       "<table border=\"1\" class=\"dataframe\">\n",
       "  <thead>\n",
       "    <tr style=\"text-align: right;\">\n",
       "      <th></th>\n",
       "      <th>text</th>\n",
       "      <th>target</th>\n",
       "    </tr>\n",
       "  </thead>\n",
       "  <tbody>\n",
       "    <tr>\n",
       "      <th>0</th>\n",
       "      <td>ドール・フード・カンパニー  ドール・フード・カンパニー（Dole Food Compan...</td>\n",
       "      <td>1</td>\n",
       "    </tr>\n",
       "    <tr>\n",
       "      <th>1</th>\n",
       "      <td>南ヶ丘牧   南ヶ丘牧（みなみがおかぼくじょう）は、栃那須原に拠を置く酪農経営企。現在4つ...</td>\n",
       "      <td>1</td>\n",
       "    </tr>\n",
       "    <tr>\n",
       "      <th>2</th>\n",
       "      <td>岩瀬牧  岩瀬牧（いわせぼくじょう）は、福島岩瀬郡鏡石にある牧である。  鏡石シンボルソン...</td>\n",
       "      <td>1</td>\n",
       "    </tr>\n",
       "    <tr>\n",
       "      <th>3</th>\n",
       "      <td>クラギ  クラギ（くらぎ、\"KURAGI Co.Ltd.\" ）は、重を心に「農」を展開する...</td>\n",
       "      <td>1</td>\n",
       "    </tr>\n",
       "    <tr>\n",
       "      <th>4</th>\n",
       "      <td>ハッピーネモファーム  ハッピーネモファーム（\"\"）は、北海浦河郡浦河にある競走馬（サラブ...</td>\n",
       "      <td>1</td>\n",
       "    </tr>\n",
       "  </tbody>\n",
       "</table>\n",
       "</div>"
      ],
      "text/plain": [
       "                                                text  target\n",
       "0   ドール・フード・カンパニー  ドール・フード・カンパニー（Dole Food Compan...       1\n",
       "1   南ヶ丘牧   南ヶ丘牧（みなみがおかぼくじょう）は、栃那須原に拠を置く酪農経営企。現在4つ...       1\n",
       "2   岩瀬牧  岩瀬牧（いわせぼくじょう）は、福島岩瀬郡鏡石にある牧である。  鏡石シンボルソン...       1\n",
       "3   クラギ  クラギ（くらぎ、\"KURAGI Co.Ltd.\" ）は、重を心に「農」を展開する...       1\n",
       "4   ハッピーネモファーム  ハッピーネモファーム（\"\"）は、北海浦河郡浦河にある競走馬（サラブ...       1"
      ]
     },
     "execution_count": 9,
     "metadata": {
      "tags": []
     },
     "output_type": "execute_result"
    }
   ],
   "source": [
    "# テキストデータの読み込み\n",
    "wikiData = pd.read_csv(\"csv/train_cleaned.csv\", encoding=\"utf-8\")\n",
    "\n",
    "# 読み込みデータの表示\n",
    "wikiData.head()"
   ]
  },
  {
   "cell_type": "code",
   "execution_count": 0,
   "metadata": {
    "colab": {},
    "colab_type": "code",
    "id": "QgtGTyWyPran"
   },
   "outputs": [],
   "source": [
    "# Numpy配列へ変換\n",
    "X = wikiData.text.values\n",
    "y = wikiData.target.values"
   ]
  },
  {
   "cell_type": "code",
   "execution_count": 0,
   "metadata": {
    "colab": {},
    "colab_type": "code",
    "id": "NOqFlYxHPraw"
   },
   "outputs": [],
   "source": [
    "# トレーニングデータ、テストデータの分割\n",
    "X_train, X_test, y_train, y_test = train_test_split(X , y, test_size=0.2, random_state=42, stratify=y)"
   ]
  },
  {
   "cell_type": "code",
   "execution_count": 0,
   "metadata": {
    "colab": {},
    "colab_type": "code",
    "id": "kADA21myPra4"
   },
   "outputs": [],
   "source": [
    "# 形態素解析用関数\n",
    "def tokenize(text):\n",
    "    tokens = []\n",
    "    tagger = MeCab.Tagger()\n",
    "    tagger.parse(\"\")\n",
    "    node = tagger.parseToNode(text)\n",
    "    while node:\n",
    "        if node.feature.split(\",\")[0] in ['形容詞', '動詞','名詞']:\n",
    "                replace_node = re.sub( re.compile( \"[!-/:-@[-`{-~]\" ), \"\", node.surface )\n",
    "                if replace_node != \"\" and replace_node != \" \":\n",
    "                    tokens.append(replace_node)\n",
    "        node = node.next\n",
    "    return tokens"
   ]
  },
  {
   "cell_type": "code",
   "execution_count": 0,
   "metadata": {
    "colab": {},
    "colab_type": "code",
    "id": "N0yQd5LDPrbB"
   },
   "outputs": [],
   "source": [
    "# 形態素解析を実行\n",
    "vectorizer = TfidfVectorizer(tokenizer=tokenize)\n",
    "vectorizer.fit(X)\n",
    "train_matrix = vectorizer.transform(X_train)\n",
    "test_matrix = vectorizer.transform(X_test)"
   ]
  },
  {
   "cell_type": "code",
   "execution_count": 16,
   "metadata": {
    "colab": {
     "base_uri": "https://localhost:8080/",
     "height": 68
    },
    "colab_type": "code",
    "executionInfo": {
     "elapsed": 2410,
     "status": "ok",
     "timestamp": 1568042436462,
     "user": {
      "displayName": "鎌田康太郎",
      "photoUrl": "https://lh3.googleusercontent.com/a-/AAuE7mC68O0Hbcn7FQp1sU_myImuC4zVoLawyaZgBPIQ=s64",
      "userId": "14776559597549076807"
     },
     "user_tz": -540
    },
    "id": "X8k9g1fZPrbJ",
    "outputId": "18ea996d-66f0-4e08-be28-3baf66326cbc"
   },
   "outputs": [
    {
     "name": "stdout",
     "output_type": "stream",
     "text": [
      "Training score：0.4640052356020942\n",
      "Cross-Validation score：0.36965752412303965\n",
      "Test score：0.3717277486910995\n"
     ]
    }
   ],
   "source": [
    "# ナイーブベイズ\n",
    "from sklearn.naive_bayes import MultinomialNB\n",
    "\n",
    "clf = MultinomialNB()\n",
    "clf.fit(train_matrix, y_train)\n",
    "cv_scores = cross_val_score(clf, train_matrix, y_train, cv=5)\n",
    "\n",
    "print(\"Training score：\" + str(clf.score(train_matrix, y_train)))\n",
    "print(\"Cross-Validation score：\" + str(np.mean(cv_scores)))\n",
    "print(\"Test score：\" + str(clf.score(test_matrix, y_test)))"
   ]
  },
  {
   "cell_type": "code",
   "execution_count": 17,
   "metadata": {
    "colab": {
     "base_uri": "https://localhost:8080/",
     "height": 68
    },
    "colab_type": "code",
    "executionInfo": {
     "elapsed": 135852,
     "status": "ok",
     "timestamp": 1568042576263,
     "user": {
      "displayName": "鎌田康太郎",
      "photoUrl": "https://lh3.googleusercontent.com/a-/AAuE7mC68O0Hbcn7FQp1sU_myImuC4zVoLawyaZgBPIQ=s64",
      "userId": "14776559597549076807"
     },
     "user_tz": -540
    },
    "id": "_fR6vuwzPrbs",
    "outputId": "d93f473d-4194-4570-d8ee-57c2bf9fe836"
   },
   "outputs": [
    {
     "name": "stdout",
     "output_type": "stream",
     "text": [
      "Training score：1.0\n",
      "Cross-Validation score：0.6497652657515415\n",
      "Test score：0.6426701570680629\n"
     ]
    }
   ],
   "source": [
    "# ランダムフォレスト\n",
    "from sklearn.ensemble import RandomForestClassifier\n",
    "\n",
    "clf2 = RandomForestClassifier(n_estimators=50,random_state=42)\n",
    "clf2.fit(train_matrix, y_train)\n",
    "cv_scores = cross_val_score(clf2, train_matrix, y_train, cv=5)\n",
    "\n",
    "print(\"Training score：\" + str(clf2.score(train_matrix, y_train)))\n",
    "print(\"Cross-Validation score：\" + str(np.mean(cv_scores)))\n",
    "print(\"Test score：\" + str(clf2.score(test_matrix, y_test)))"
   ]
  },
  {
   "cell_type": "code",
   "execution_count": 18,
   "metadata": {
    "colab": {
     "base_uri": "https://localhost:8080/",
     "height": 68
    },
    "colab_type": "code",
    "executionInfo": {
     "elapsed": 391687,
     "status": "ok",
     "timestamp": 1568044115336,
     "user": {
      "displayName": "鎌田康太郎",
      "photoUrl": "https://lh3.googleusercontent.com/a-/AAuE7mC68O0Hbcn7FQp1sU_myImuC4zVoLawyaZgBPIQ=s64",
      "userId": "14776559597549076807"
     },
     "user_tz": -540
    },
    "id": "148t93J2Prb1",
    "outputId": "8f12bb4b-c7fb-4811-d670-52b6584a3b59"
   },
   "outputs": [
    {
     "name": "stdout",
     "output_type": "stream",
     "text": [
      "Training score：0.05770069808027923\n",
      "Cross-Validation score：0.10504214668642597\n",
      "Test score：0.051047120418848166\n"
     ]
    }
   ],
   "source": [
    "# Light GBM\n",
    "import lightgbm as lgb\n",
    "\n",
    "clf3 = lgb.LGBMClassifier(objective='multiclass', num_class=33)\n",
    "clf3.fit(train_matrix, y_train)\n",
    "cv_scores = cross_val_score(clf3, train_matrix, y_train, cv=5)\n",
    "\n",
    "print(\"Training score：\" + str(clf3.score(train_matrix, y_train)))\n",
    "print(\"Cross-Validation score：\" + str(np.mean(cv_scores)))\n",
    "print(\"Test score：\" + str(clf3.score(test_matrix, y_test)))"
   ]
  },
  {
   "cell_type": "code",
   "execution_count": 19,
   "metadata": {
    "colab": {
     "base_uri": "https://localhost:8080/",
     "height": 119
    },
    "colab_type": "code",
    "executionInfo": {
     "elapsed": 1236803,
     "status": "ok",
     "timestamp": 1568045352129,
     "user": {
      "displayName": "鎌田康太郎",
      "photoUrl": "https://lh3.googleusercontent.com/a-/AAuE7mC68O0Hbcn7FQp1sU_myImuC4zVoLawyaZgBPIQ=s64",
      "userId": "14776559597549076807"
     },
     "user_tz": -540
    },
    "id": "dP1ADqCfPrcI",
    "outputId": "49adc201-5a3e-47a2-bacd-1fa78fe836ff"
   },
   "outputs": [
    {
     "name": "stdout",
     "output_type": "stream",
     "text": [
      "Training score：0.20353403141361257\n",
      "Cross-Validation score：0.18465512121501293\n",
      "Test score：0.19589877835951133\n",
      "Training score：0.20353403141361257\n",
      "Cross-Validation score：0.18465512121501293\n",
      "Test score：0.19589877835951133\n"
     ]
    }
   ],
   "source": [
    "# SVM\n",
    "from sklearn.svm import SVC\n",
    "\n",
    "## パラメーター設定\n",
    "C = 1.\n",
    "kernel = 'rbf'\n",
    "gamma  = 0.01\n",
    "\n",
    "## One-versus-the-rest\n",
    "clf4 = SVC(C=C, kernel=kernel, gamma=gamma, decision_function_shape='ovr')\n",
    "clf4.fit(train_matrix, y_train)\n",
    "cv_scores = cross_val_score(clf4, train_matrix, y_train, cv=5)\n",
    "\n",
    "print(\"Training score：\" + str(clf4.score(train_matrix, y_train)))\n",
    "print(\"Cross-Validation score：\" + str(np.mean(cv_scores)))\n",
    "print(\"Test score：\" + str(clf4.score(test_matrix, y_test)))\n",
    "\n",
    "\n",
    "## One-versus-the-one(multi-class default)\n",
    "clf5 = SVC(C=C, kernel=kernel, gamma=gamma, decision_function_shape='ovo')\n",
    "clf5.fit(train_matrix, y_train)\n",
    "cv_scores = cross_val_score(clf5, train_matrix, y_train, cv=5)\n",
    "\n",
    "print(\"Training score：\" + str(clf5.score(train_matrix, y_train)))\n",
    "print(\"Cross-Validation score：\" + str(np.mean(cv_scores)))\n",
    "print(\"Test score：\" + str(clf5.score(test_matrix, y_test)))"
   ]
  }
 ],
 "metadata": {
  "accelerator": "GPU",
  "colab": {
   "collapsed_sections": [],
   "name": "SampleModel_colab.ipynb",
   "provenance": [],
   "version": "0.3.2"
  },
  "kernelspec": {
   "display_name": "Python 3",
   "language": "python",
   "name": "python3"
  },
  "language_info": {
   "codemirror_mode": {
    "name": "ipython",
    "version": 3
   },
   "file_extension": ".py",
   "mimetype": "text/x-python",
   "name": "python",
   "nbconvert_exporter": "python",
   "pygments_lexer": "ipython3",
   "version": "3.6.6"
  }
 },
 "nbformat": 4,
 "nbformat_minor": 1
}
