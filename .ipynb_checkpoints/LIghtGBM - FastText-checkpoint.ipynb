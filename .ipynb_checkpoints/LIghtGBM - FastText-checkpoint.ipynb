{
 "cells": [
  {
   "cell_type": "code",
   "execution_count": 45,
   "metadata": {},
   "outputs": [],
   "source": [
    "# データ分析・操作用ライブラリ\n",
    "import pandas as pd \n",
    "import numpy as np\n",
    "import matplotlib.pyplot as plt\n",
    "import japanize_matplotlib\n",
    "import seaborn as sns\n",
    "\n",
    "# NLP用ライブラリ\n",
    "import MeCab,re\n",
    "from sklearn.feature_extraction.text import TfidfVectorizer\n",
    "from gensim.models import word2vec\n",
    "\n",
    "# スコア評価用ライブラリ\n",
    "from sklearn.model_selection import train_test_split\n",
    "from sklearn.model_selection import cross_val_score\n",
    "from sklearn.metrics import precision_recall_fscore_support\n",
    "\n",
    "# エラー表示の抑制\n",
    "import warnings"
   ]
  },
  {
   "cell_type": "code",
   "execution_count": 2,
   "metadata": {},
   "outputs": [],
   "source": [
    "# 表示関連\n",
    "# DataFrameの列数設定\n",
    "pd.set_option('display.max_columns', 500)\n",
    "pd.set_option(\"display.max_rows\", 500)\n",
    "warnings.filterwarnings('ignore')"
   ]
  },
  {
   "cell_type": "code",
   "execution_count": 36,
   "metadata": {},
   "outputs": [],
   "source": [
    "def tokenize(text):\n",
    "    tokens = []\n",
    "    tagger = MeCab.Tagger()\n",
    "    node = tagger.parseToNode(text)\n",
    "    while node:\n",
    "        if node.feature.split(\",\")[0] in ['名詞'] :\n",
    "                replace_node = re.sub( re.compile( \"[!-/:-@[-`{-~]\" ), \"\", node.surface )\n",
    "                if replace_node != \"\" and replace_node != \" \":\n",
    "                    tokens.append(replace_node)\n",
    "        node = node.next\n",
    "    return tokens"
   ]
  },
  {
   "cell_type": "code",
   "execution_count": 37,
   "metadata": {},
   "outputs": [],
   "source": [
    "def MeanEmbeddingVectorizer(arr, model):\n",
    "    mean_vectors = []\n",
    "    for document in arr:\n",
    "        tokens = tokenize(document)\n",
    "        vectors = [model.get_vector(token) for token in tokens if token in model.vocab]\n",
    "        if vectors:\n",
    "            mean_vec = np.vstack(vectors).mean(axis=0)\n",
    "            mean_vectors.append(mean_vec)\n",
    "        else:\n",
    "            mean_vectors.append(np.zeros(100))\n",
    "        embedding = np.vstack(mean_vectors)        \n",
    "    return embedding"
   ]
  },
  {
   "cell_type": "code",
   "execution_count": 4,
   "metadata": {},
   "outputs": [
    {
     "data": {
      "text/html": [
       "<div>\n",
       "<style scoped>\n",
       "    .dataframe tbody tr th:only-of-type {\n",
       "        vertical-align: middle;\n",
       "    }\n",
       "\n",
       "    .dataframe tbody tr th {\n",
       "        vertical-align: top;\n",
       "    }\n",
       "\n",
       "    .dataframe thead th {\n",
       "        text-align: right;\n",
       "    }\n",
       "</style>\n",
       "<table border=\"1\" class=\"dataframe\">\n",
       "  <thead>\n",
       "    <tr style=\"text-align: right;\">\n",
       "      <th></th>\n",
       "      <th>text</th>\n",
       "      <th>target</th>\n",
       "    </tr>\n",
       "  </thead>\n",
       "  <tbody>\n",
       "    <tr>\n",
       "      <th>0</th>\n",
       "      <td>ドール・フード・カンパニー  ドール・フード・カンパニー  Dole  Food  Comp...</td>\n",
       "      <td>1</td>\n",
       "    </tr>\n",
       "    <tr>\n",
       "      <th>1</th>\n",
       "      <td>南ヶ丘牧場  株式会社  南ヶ丘牧場  みなみ  じょう  栃木県  那須高原  本拠  酪...</td>\n",
       "      <td>1</td>\n",
       "    </tr>\n",
       "    <tr>\n",
       "      <th>2</th>\n",
       "      <td>岩瀬牧場  岩瀬牧場  ぼくじょう  日本  福島県  岩瀬  郡  鏡石町  牧場  鏡石...</td>\n",
       "      <td>1</td>\n",
       "    </tr>\n",
       "    <tr>\n",
       "      <th>3</th>\n",
       "      <td>くら  ぎ  GI  Co  Ltd  三重県  中心  農業  店舗  展開  会社  本...</td>\n",
       "      <td>1</td>\n",
       "    </tr>\n",
       "    <tr>\n",
       "      <th>4</th>\n",
       "      <td>ハッピーネモファーム  株式会社  ハッピーネモファーム  北海道  浦河  郡  浦河町 ...</td>\n",
       "      <td>1</td>\n",
       "    </tr>\n",
       "  </tbody>\n",
       "</table>\n",
       "</div>"
      ],
      "text/plain": [
       "                                                text  target\n",
       "0  ドール・フード・カンパニー  ドール・フード・カンパニー  Dole  Food  Comp...       1\n",
       "1  南ヶ丘牧場  株式会社  南ヶ丘牧場  みなみ  じょう  栃木県  那須高原  本拠  酪...       1\n",
       "2  岩瀬牧場  岩瀬牧場  ぼくじょう  日本  福島県  岩瀬  郡  鏡石町  牧場  鏡石...       1\n",
       "3  くら  ぎ  GI  Co  Ltd  三重県  中心  農業  店舗  展開  会社  本...       1\n",
       "4  ハッピーネモファーム  株式会社  ハッピーネモファーム  北海道  浦河  郡  浦河町 ...       1"
      ]
     },
     "execution_count": 4,
     "metadata": {},
     "output_type": "execute_result"
    }
   ],
   "source": [
    "# テキストデータの読み込み\n",
    "wikiData = pd.read_csv(\"csv/train_cleaned.csv\", encoding=\"utf-8\")\n",
    "\n",
    "# 読み込みデータの表示\n",
    "wikiData.head()"
   ]
  },
  {
   "cell_type": "code",
   "execution_count": 5,
   "metadata": {},
   "outputs": [],
   "source": [
    "# Numpy配列へ変換\n",
    "X = wikiData.text.values\n",
    "y = wikiData.target.values"
   ]
  },
  {
   "cell_type": "code",
   "execution_count": 38,
   "metadata": {},
   "outputs": [],
   "source": [
    "# トレーニングデータ、テストデータの分割\n",
    "X_train, X_test, y_train, y_test = train_test_split(X , y, test_size=0.2, random_state=42, stratify=y)"
   ]
  },
  {
   "cell_type": "code",
   "execution_count": 7,
   "metadata": {},
   "outputs": [],
   "source": [
    "# 分散表現の読み込み\n",
    "import gensim.models.keyedvectors as word2vec_for_txt\n",
    "model_dir = 'model/fastText.model.vec'\n",
    "model = word2vec_for_txt.KeyedVectors.load_word2vec_format(model_dir, binary=False)"
   ]
  },
  {
   "cell_type": "code",
   "execution_count": 39,
   "metadata": {},
   "outputs": [],
   "source": [
    "# 分散表現へ変換\n",
    "X_train = MeanEmbeddingVectorizer(X_train, model)\n",
    "X_test = MeanEmbeddingVectorizer(X_test, model)"
   ]
  },
  {
   "cell_type": "code",
   "execution_count": 42,
   "metadata": {},
   "outputs": [
    {
     "name": "stdout",
     "output_type": "stream",
     "text": [
      "Training score：0.999890877346\n",
      "Cross-Validation score：0.699515856083\n",
      "Test score：0.692274116107\n"
     ]
    }
   ],
   "source": [
    "# Light GBM\n",
    "import lightgbm as lgb\n",
    "\n",
    "clf = lgb.LGBMClassifier(objective='multiclass', num_class=33)\n",
    "clf.fit(X_train, y_train)\n",
    "cv_scores = cross_val_score(clf, X_train, y_train, cv=5)\n",
    "\n",
    "print(\"Training score：\" + str(clf.score(X_train, y_train)))\n",
    "print(\"Cross-Validation score：\" + str(np.mean(cv_scores)))\n",
    "print(\"Test score：\" + str(clf.score(X_test, y_test)))"
   ]
  },
  {
   "cell_type": "code",
   "execution_count": 46,
   "metadata": {},
   "outputs": [
    {
     "name": "stderr",
     "output_type": "stream",
     "text": [
      "D:\\Program\\Anaconda3\\envs\\sklearn1.9.1\\lib\\site-packages\\sklearn\\metrics\\classification.py:1437: UndefinedMetricWarning: Precision and F-score are ill-defined and being set to 0.0 in labels with no predicted samples.\n",
      "  'precision', 'predicted', average, warn_for)\n"
     ]
    },
    {
     "data": {
      "image/png": "[encoded data removed]",
      "text/plain": [
       "<Figure size 1296x576 with 1 Axes>"
      ]
     },
     "metadata": {
      "needs_background": "light"
     },
     "output_type": "display_data"
    }
   ],
   "source": [
    "# テストスコアのクラス別適合率、再現率、F1値を計算\n",
    "pred_test = clf.predict(X_test)\n",
    "p_r_f = precision_recall_fscore_support(y_test, pred_test)\n",
    "wiki_gpby = wikiData.groupby('target').count()\n",
    "y = wiki_gpby['text'].values\n",
    "x =wiki_gpby.index.values\n",
    "\n",
    "# クラス別適合率、再現率、F1値を表示\n",
    "plt.figure(figsize=(18, 8))\n",
    "plt.title(\"クラス別適合率、再現率、F1値\")\n",
    "plt.ylabel(\"score\")\n",
    "plt.xticks(x)\n",
    "plt.bar(x-0.25, p_r_f[0], width=0.2, label='pre')\n",
    "plt.bar(x, p_r_f[1], width=0.2, label='rec')\n",
    "plt.bar(x+0.25, p_r_f[2], width=0.2, label='F1')\n",
    "plt.legend(loc=2)    \n",
    "plt.show()"
   ]
  }
 ],
 "metadata": {
  "kernelspec": {
   "display_name": "Python 3",
   "language": "python",
   "name": "python3"
  },
  "language_info": {
   "codemirror_mode": {
    "name": "ipython",
    "version": 3
   },
   "file_extension": ".py",
   "mimetype": "text/x-python",
   "name": "python",
   "nbconvert_exporter": "python",
   "pygments_lexer": "ipython3",
   "version": "3.6.6"
  }
 },
 "nbformat": 4,
 "nbformat_minor": 2
}
