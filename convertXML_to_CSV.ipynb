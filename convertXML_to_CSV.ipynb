{
 "cells": [
  {
   "cell_type": "code",
   "execution_count": 9,
   "metadata": {},
   "outputs": [],
   "source": [
    "# インポート\n",
    "import xml.etree.ElementTree as ET\n",
    "import numpy as np\n",
    "import pandas as pd\n",
    "import matplotlib.pyplot as plt\n",
    "import glob"
   ]
  },
  {
   "cell_type": "code",
   "execution_count": 2,
   "metadata": {},
   "outputs": [],
   "source": [
    "# 表示関連\n",
    "# DataFrameの列数設定\n",
    "pd.set_option('display.max_columns', 500)"
   ]
  },
  {
   "cell_type": "code",
   "execution_count": 31,
   "metadata": {},
   "outputs": [],
   "source": [
    "# XMLファイルを解析\n",
    "fileNames = glob.glob('xml/*/*.xml')\n",
    "treeList = []\n",
    "for file in fileNames:\n",
    "    tree = ET.parse(file)\n",
    "    treeList.append(tree)"
   ]
  },
  {
   "cell_type": "code",
   "execution_count": 32,
   "metadata": {},
   "outputs": [],
   "source": [
    "# XMLを取得\n",
    "companyProfile = ''\n",
    "textList = []\n",
    "\n",
    "for tree in treeList:\n",
    "    root = tree.getroot()\n",
    "    for text in root.iter('text'):\n",
    "        companyProfile = companyProfile + text.text\n",
    "    textList.append(companyProfile)\n",
    "    companyProfile = ''\n",
    "\n",
    "text_pd = pd.DataFrame(textList,columns=['text'])"
   ]
  },
  {
   "cell_type": "code",
   "execution_count": 33,
   "metadata": {},
   "outputs": [
    {
     "data": {
      "text/html": [
       "<div>\n",
       "<style scoped>\n",
       "    .dataframe tbody tr th:only-of-type {\n",
       "        vertical-align: middle;\n",
       "    }\n",
       "\n",
       "    .dataframe tbody tr th {\n",
       "        vertical-align: top;\n",
       "    }\n",
       "\n",
       "    .dataframe thead th {\n",
       "        text-align: right;\n",
       "    }\n",
       "</style>\n",
       "<table border=\"1\" class=\"dataframe\">\n",
       "  <thead>\n",
       "    <tr style=\"text-align: right;\">\n",
       "      <th></th>\n",
       "      <th>text</th>\n",
       "    </tr>\n",
       "  </thead>\n",
       "  <tbody>\n",
       "    <tr>\n",
       "      <th>0</th>\n",
       "      <td>{{基礎情報 会社\\n| 社名               = ドール・フード・カンパニー・...</td>\n",
       "    </tr>\n",
       "    <tr>\n",
       "      <th>1</th>\n",
       "      <td>{{基礎情報 会社\\n | 社名 = 株式会社 南ヶ丘牧場\\n | 英文社名 = MINAM...</td>\n",
       "    </tr>\n",
       "    <tr>\n",
       "      <th>2</th>\n",
       "      <td>{{基礎情報 会社\\n| 社名               = 岩瀬牧場\\n| 英文社名  ...</td>\n",
       "    </tr>\n",
       "    <tr>\n",
       "      <th>3</th>\n",
       "      <td>{{otheruses|三重県に本社をおく企業|楽器のクラギ|クラシック・ギター}}\\n{{...</td>\n",
       "    </tr>\n",
       "    <tr>\n",
       "      <th>4</th>\n",
       "      <td>{{基礎情報 会社\\n|社名 = 株式会社 ハッピーネモファーム\\n|英文社名 = {{la...</td>\n",
       "    </tr>\n",
       "  </tbody>\n",
       "</table>\n",
       "</div>"
      ],
      "text/plain": [
       "                                                text\n",
       "0  {{基礎情報 会社\\n| 社名               = ドール・フード・カンパニー・...\n",
       "1  {{基礎情報 会社\\n | 社名 = 株式会社 南ヶ丘牧場\\n | 英文社名 = MINAM...\n",
       "2  {{基礎情報 会社\\n| 社名               = 岩瀬牧場\\n| 英文社名  ...\n",
       "3  {{otheruses|三重県に本社をおく企業|楽器のクラギ|クラシック・ギター}}\\n{{...\n",
       "4  {{基礎情報 会社\\n|社名 = 株式会社 ハッピーネモファーム\\n|英文社名 = {{la..."
      ]
     },
     "execution_count": 33,
     "metadata": {},
     "output_type": "execute_result"
    }
   ],
   "source": [
    "# Pandasへ変換\n",
    "text_pd = pd.DataFrame(textList,columns=['text'])\n",
    "text_pd.head()"
   ]
  },
  {
   "cell_type": "code",
   "execution_count": 37,
   "metadata": {},
   "outputs": [],
   "source": [
    "# CSV出力\n",
    "text_pd.to_csv(\"csv/train.csv\",index = False,encoding='cp932')"
   ]
  },
  {
   "cell_type": "code",
   "execution_count": null,
   "metadata": {},
   "outputs": [],
   "source": []
  }
 ],
 "metadata": {
  "kernelspec": {
   "display_name": "Python 3",
   "language": "python",
   "name": "python3"
  },
  "language_info": {
   "codemirror_mode": {
    "name": "ipython",
    "version": 3
   },
   "file_extension": ".py",
   "mimetype": "text/x-python",
   "name": "python",
   "nbconvert_exporter": "python",
   "pygments_lexer": "ipython3",
   "version": "3.6.5"
  }
 },
 "nbformat": 4,
 "nbformat_minor": 2
}
