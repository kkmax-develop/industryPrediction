{
 "cells": [
  {
   "cell_type": "code",
   "execution_count": 7,
   "metadata": {},
   "outputs": [],
   "source": [
    "# インポート\n",
    "import xml.etree.ElementTree as ET\n",
    "from bs4 import BeautifulSoup\n",
    "import numpy as np\n",
    "import pandas as pd\n",
    "import matplotlib.pyplot as plt\n",
    "import glob"
   ]
  },
  {
   "cell_type": "code",
   "execution_count": 2,
   "metadata": {},
   "outputs": [],
   "source": [
    "# 表示関連\n",
    "# DataFrameの列数設定\n",
    "pd.set_option('display.max_columns', 500)"
   ]
  },
  {
   "cell_type": "code",
   "execution_count": 3,
   "metadata": {},
   "outputs": [],
   "source": [
    "# XMLファイルを解析\n",
    "treeList = []\n",
    "labelList = []\n",
    "fileNames = glob.glob('xml/*/*.xml')\n",
    "for file in fileNames:\n",
    "    tree = ET.parse(file)\n",
    "    treeList.append(tree)\n",
    "    labelList.append(file[4:6])"
   ]
  },
  {
   "cell_type": "code",
   "execution_count": 15,
   "metadata": {},
   "outputs": [],
   "source": [
    "# XMLを取得\n",
    "companyProfile = ''\n",
    "textList = []\n",
    "\n",
    "for tree in treeList:\n",
    "    root = tree.getroot()\n",
    "    for text in root.iter('text'):\n",
    "        companyProfile = companyProfile + text.text\n",
    "    # 改行タグの置換\n",
    "    devided_text = companyProfile.splitlines()\n",
    "    joined_devided_text = ' '.join(devided_text)\n",
    "    textList.append(joined_devided_text)\n",
    "    companyProfile = ''"
   ]
  },
  {
   "cell_type": "code",
   "execution_count": 16,
   "metadata": {},
   "outputs": [
    {
     "data": {
      "text/html": [
       "<div>\n",
       "<style scoped>\n",
       "    .dataframe tbody tr th:only-of-type {\n",
       "        vertical-align: middle;\n",
       "    }\n",
       "\n",
       "    .dataframe tbody tr th {\n",
       "        vertical-align: top;\n",
       "    }\n",
       "\n",
       "    .dataframe thead th {\n",
       "        text-align: right;\n",
       "    }\n",
       "</style>\n",
       "<table border=\"1\" class=\"dataframe\">\n",
       "  <thead>\n",
       "    <tr style=\"text-align: right;\">\n",
       "      <th></th>\n",
       "      <th>text</th>\n",
       "      <th>target</th>\n",
       "    </tr>\n",
       "  </thead>\n",
       "  <tbody>\n",
       "    <tr>\n",
       "      <th>0</th>\n",
       "      <td>{{基礎情報 会社 | 社名               = ドール・フード・カンパニー・イ...</td>\n",
       "      <td>01</td>\n",
       "    </tr>\n",
       "    <tr>\n",
       "      <th>1</th>\n",
       "      <td>{{基礎情報 会社  | 社名 = 株式会社 南ヶ丘牧場  | 英文社名 = MINAMIG...</td>\n",
       "      <td>01</td>\n",
       "    </tr>\n",
       "    <tr>\n",
       "      <th>2</th>\n",
       "      <td>{{基礎情報 会社 | 社名               = 岩瀬牧場 | 英文社名    ...</td>\n",
       "      <td>01</td>\n",
       "    </tr>\n",
       "    <tr>\n",
       "      <th>3</th>\n",
       "      <td>{{otheruses|三重県に本社をおく企業|楽器のクラギ|クラシック・ギター}} {{基...</td>\n",
       "      <td>01</td>\n",
       "    </tr>\n",
       "    <tr>\n",
       "      <th>4</th>\n",
       "      <td>{{基礎情報 会社 |社名 = 株式会社 ハッピーネモファーム |英文社名 = {{lang...</td>\n",
       "      <td>01</td>\n",
       "    </tr>\n",
       "  </tbody>\n",
       "</table>\n",
       "</div>"
      ],
      "text/plain": [
       "                                                text target\n",
       "0  {{基礎情報 会社 | 社名               = ドール・フード・カンパニー・イ...     01\n",
       "1  {{基礎情報 会社  | 社名 = 株式会社 南ヶ丘牧場  | 英文社名 = MINAMIG...     01\n",
       "2  {{基礎情報 会社 | 社名               = 岩瀬牧場 | 英文社名    ...     01\n",
       "3  {{otheruses|三重県に本社をおく企業|楽器のクラギ|クラシック・ギター}} {{基...     01\n",
       "4  {{基礎情報 会社 |社名 = 株式会社 ハッピーネモファーム |英文社名 = {{lang...     01"
      ]
     },
     "execution_count": 16,
     "metadata": {},
     "output_type": "execute_result"
    }
   ],
   "source": [
    "# Pandasへ変換 \n",
    "work1_pd = pd.DataFrame(textList,columns=['text'])\n",
    "work2_pd = pd.DataFrame(labelList,columns=['target'])\n",
    "text_pd = pd.concat([work1_pd, work2_pd], axis=1)\n",
    "text_pd.head()"
   ]
  },
  {
   "cell_type": "code",
   "execution_count": 21,
   "metadata": {},
   "outputs": [],
   "source": [
    "# CSV出力\n",
    "text_pd.to_csv(\"csv/train.csv\",index = False, encoding='Shift-JIS')"
   ]
  }
 ],
 "metadata": {
  "kernelspec": {
   "display_name": "Python 3",
   "language": "python",
   "name": "python3"
  },
  "language_info": {
   "codemirror_mode": {
    "name": "ipython",
    "version": 3
   },
   "file_extension": ".py",
   "mimetype": "text/x-python",
   "name": "python",
   "nbconvert_exporter": "python",
   "pygments_lexer": "ipython3",
   "version": "3.6.6"
  }
 },
 "nbformat": 4,
 "nbformat_minor": 2
}
